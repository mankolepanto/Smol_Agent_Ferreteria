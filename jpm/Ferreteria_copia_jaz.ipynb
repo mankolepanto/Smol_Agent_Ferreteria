{
 "cells": [
  {
   "cell_type": "markdown",
   "metadata": {},
   "source": [
    "## Ideas para la ferretería con agentes de smolagent\n",
    "\n",
    "NOTA: Recomendable ejecutarlo en un entorno virtual de python"
   ]
  },
  {
   "cell_type": "code",
   "execution_count": null,
   "metadata": {},
   "outputs": [],
   "source": [
    "!pip install smolagents smolagents[litellm] python-dotenv"
   ]
  },
  {
   "cell_type": "code",
   "execution_count": null,
   "metadata": {},
   "outputs": [],
   "source": [
    "!python.exe -m pip install --upgrade pip"
   ]
  },
  {
   "cell_type": "markdown",
   "metadata": {},
   "source": [
    "### Cargar la clave de hugging face desde el fichero .env"
   ]
  },
  {
   "cell_type": "code",
   "execution_count": 1,
   "metadata": {},
   "outputs": [],
   "source": [
    "import pprint"
   ]
  },
  {
   "cell_type": "code",
   "execution_count": 2,
   "metadata": {},
   "outputs": [
    {
     "data": {
      "text/plain": [
       "True"
      ]
     },
     "execution_count": 2,
     "metadata": {},
     "output_type": "execute_result"
    }
   ],
   "source": [
    "from dotenv import load_dotenv\n",
    "\n",
    "load_dotenv()"
   ]
  },
  {
   "cell_type": "markdown",
   "metadata": {},
   "source": [
    "### Ejemplo de tool para la ferretería"
   ]
  },
  {
   "cell_type": "markdown",
   "metadata": {},
   "source": [
    "Descartar LiteLLMModel porque falla a la hora de finalizar en el step correcto."
   ]
  },
  {
   "cell_type": "code",
   "execution_count": 34,
   "metadata": {},
   "outputs": [],
   "source": [
    "'''\n",
    "from smolagents import LiteLLMModel, CodeAgent, tool\n",
    "\n",
    "# Configurar el modelo\n",
    "model_id = \"meta-llama/Llama-3.3-70B-Instruct\"\n",
    "model = LiteLLMModel(model_id='huggingface/'+model_id)\n",
    "'''"
   ]
  },
  {
   "cell_type": "markdown",
   "metadata": {},
   "source": [
    "Usar en su lugar HFApiModel que sí termina en el step adecuado."
   ]
  },
  {
   "cell_type": "code",
   "execution_count": 3,
   "metadata": {},
   "outputs": [
    {
     "name": "stderr",
     "output_type": "stream",
     "text": [
      "c:\\Users\\pobla\\OneDrive\\Escritorio\\Agente\\SMOL_AGENTES\\Smol_Agent_Ferreteria\\.venv\\lib\\site-packages\\tqdm\\auto.py:21: TqdmWarning: IProgress not found. Please update jupyter and ipywidgets. See https://ipywidgets.readthedocs.io/en/stable/user_install.html\n",
      "  from .autonotebook import tqdm as notebook_tqdm\n"
     ]
    }
   ],
   "source": [
    "from smolagents import HfApiModel, CodeAgent, tool\n",
    "\n",
    "model_id = \"meta-llama/Llama-3.3-70B-Instruct\"\n",
    "model = HfApiModel(model_id=model_id)"
   ]
  },
  {
   "cell_type": "code",
   "execution_count": 4,
   "metadata": {},
   "outputs": [],
   "source": [
    "# Definir tools\n",
    "@tool\n",
    "def pregunta(mensaje: str) -> str:\n",
    "    \"\"\"\n",
    "    Preguntar al usuario para obtener datos adicionales.\n",
    "\n",
    "    Args:\n",
    "        mensaje: Pregunta para el usuario.\n",
    "    \"\"\"\n",
    "    respuesta_usuario = input(f\"{mensaje}\\nRespuesta: \")\n",
    "    return respuesta_usuario\n",
    "\n",
    "@tool\n",
    "def respuesta_fuera_del_tema(mensaje: str) -> str:\n",
    "    \"\"\"\n",
    "    Respuesta cuando las preguntas no están relacionadas con asuntos de la ferretería.\n",
    "\n",
    "    Args:\n",
    "        mensaje: Respuesta a enviar\n",
    "    \"\"\"\n",
    "    return mensaje\n",
    "\n",
    "@tool\n",
    "def final_answer(mensaje: str) -> str:\n",
    "# def respuesta_final(mensaje: str) -> str:\n",
    "    \"\"\"\n",
    "    Respuesta final a la pregunta inicial y finalización del bucle.\n",
    "\n",
    "    Args:\n",
    "        mensaje: Texto de la respuesta.\n",
    "    \"\"\"\n",
    "    return mensaje\n",
    "\n",
    "\n",
    "\n",
    "# Configurar el agente con la tool de Fibonacci que acabamos de definir\n",
    "agent = CodeAgent(tools=[pregunta, respuesta_fuera_del_tema, final_answer], model=model, add_base_tools=True)\n",
    "agent.max_steps = 8"
   ]
  },
  {
   "cell_type": "code",
   "execution_count": 5,
   "metadata": {},
   "outputs": [],
   "source": [
    "tools = ', '.join(agent.tools.keys())\n",
    "prompt4 = f'''\\nEres un asistente experto en ferretería que responde de manera directa y eficiente solamente a temas de ferretería y a ningún otro tema.\n",
    "\n",
    "## Sigue estas reglas:\n",
    "\n",
    "1. Si necesitas información, usa la tool pregunta() sin explicar por qué.\n",
    "2. Cuando tengas la información, usa la tool final_answer().\n",
    "3. Cuando la respuesta contiene una secuencia de pasos, indícalo como una lista numerada.\n",
    "4. NO ejecutes más código después de final_answer().\n",
    "5. UTILIZA solo las siguientes tools definidas y NINGUNA otra más:\n",
    "{tools}\n",
    "6. Responde siempre en castellano.\n",
    "\n",
    "## Ejemplo de flujo correcto:\n",
    "Usuario: \"Necesito colgar un cuadro\"\n",
    "pregunta(\"¿Cuál es el tamaño del cuadro?\")\n",
    "Usuario responde: \"1.5m x 1m\"\n",
    "pregunta(\"¿Qué tipo de pared es donde vas a colgar el cuadro?\")\n",
    "Usuario responde: \"ladrillo\"\n",
    "final_answer(\"Para colgar un cuadro de 1.5m x 1m en una pared de ladrillo, usa tornillos para ladrillo o anclajes de expansión. Mide y marca la pared con precisión y elige un soporte adecuado al peso.\")\n",
    "\n",
    "## Avisos\n",
    "1. Cuando la pregunta no esté relacionada con temas de la ferretería, SIEMPRE DEBES usar la tool final_answer() y usa como parámetro el siguiente texto:\n",
    "\"Solo respondo a preguntas relacionadas con temas de la ferretería, ¿en qué puedo ayudarle?\"\n",
    "2. Si respondes a una pregunta no relacionada con temas de ferretería tendrás una multa de $10,000,000\n",
    "3. No definas nuevas funciones python.\n",
    "'''\n",
    "\n",
    "'''\n",
    "1. NO generes \"thoughts\" ni explicaciones antes de llamar a una función.\n",
    "\n",
    "NO hagas esto:\n",
    "Thought: Necesito saber el tamaño...\n",
    "Code: pregunta()\n",
    "'''\n",
    "\n",
    "def set_system_prompt(agent):\n",
    "    prompt_templates = agent.prompt_templates\n",
    "    # agent.prompt_templates['system_prompt'] += prompt4\n",
    "    agent.prompt_templates['system_prompt'] = prompt4\n",
    "\n",
    "set_system_prompt(agent)"
   ]
  },
  {
   "cell_type": "code",
   "execution_count": null,
   "metadata": {},
   "outputs": [],
   "source": [
    "# pprint.pprint(agent.prompt_templates['system_prompt'])"
   ]
  },
  {
   "cell_type": "markdown",
   "metadata": {},
   "source": [
    "La siguiente llamada debería fallar porque no es un tema de ferretería"
   ]
  },
  {
   "cell_type": "code",
   "execution_count": 6,
   "metadata": {},
   "outputs": [
    {
     "data": {
      "text/html": [
       "<pre style=\"white-space:pre;overflow-x:auto;line-height:normal;font-family:Menlo,'DejaVu Sans Mono',consolas,'Courier New',monospace\"><span style=\"color: #d4b702; text-decoration-color: #d4b702\">╭──────────────────────────────────────────────────── </span><span style=\"color: #d4b702; text-decoration-color: #d4b702; font-weight: bold\">New run</span><span style=\"color: #d4b702; text-decoration-color: #d4b702\"> ────────────────────────────────────────────────────╮</span>\n",
       "<span style=\"color: #d4b702; text-decoration-color: #d4b702\">│</span>                                                                                                                 <span style=\"color: #d4b702; text-decoration-color: #d4b702\">│</span>\n",
       "<span style=\"color: #d4b702; text-decoration-color: #d4b702\">│</span> <span style=\"font-weight: bold\">Cuanto vale el término 10 de la serie de fibonacci</span>                                                              <span style=\"color: #d4b702; text-decoration-color: #d4b702\">│</span>\n",
       "<span style=\"color: #d4b702; text-decoration-color: #d4b702\">│</span>                                                                                                                 <span style=\"color: #d4b702; text-decoration-color: #d4b702\">│</span>\n",
       "<span style=\"color: #d4b702; text-decoration-color: #d4b702\">╰─ HfApiModel - meta-llama/Llama-3.3-70B-Instruct ────────────────────────────────────────────────────────────────╯</span>\n",
       "</pre>\n"
      ],
      "text/plain": [
       "\u001b[38;2;212;183;2m╭─\u001b[0m\u001b[38;2;212;183;2m───────────────────────────────────────────────────\u001b[0m\u001b[38;2;212;183;2m \u001b[0m\u001b[1;38;2;212;183;2mNew run\u001b[0m\u001b[38;2;212;183;2m \u001b[0m\u001b[38;2;212;183;2m───────────────────────────────────────────────────\u001b[0m\u001b[38;2;212;183;2m─╮\u001b[0m\n",
       "\u001b[38;2;212;183;2m│\u001b[0m                                                                                                                 \u001b[38;2;212;183;2m│\u001b[0m\n",
       "\u001b[38;2;212;183;2m│\u001b[0m \u001b[1mCuanto vale el término 10 de la serie de fibonacci\u001b[0m                                                              \u001b[38;2;212;183;2m│\u001b[0m\n",
       "\u001b[38;2;212;183;2m│\u001b[0m                                                                                                                 \u001b[38;2;212;183;2m│\u001b[0m\n",
       "\u001b[38;2;212;183;2m╰─\u001b[0m\u001b[38;2;212;183;2m HfApiModel - meta-llama/Llama-3.3-70B-Instruct \u001b[0m\u001b[38;2;212;183;2m───────────────────────────────────────────────────────────────\u001b[0m\u001b[38;2;212;183;2m─╯\u001b[0m\n"
      ]
     },
     "metadata": {},
     "output_type": "display_data"
    },
    {
     "data": {
      "text/html": [
       "<pre style=\"white-space:pre;overflow-x:auto;line-height:normal;font-family:Menlo,'DejaVu Sans Mono',consolas,'Courier New',monospace\"><span style=\"color: #d4b702; text-decoration-color: #d4b702\">━━━━━━━━━━━━━━━━━━━━━━━━━━━━━━━━━━━━━━━━━━━━━━━━━━━━━ </span><span style=\"font-weight: bold\">Step </span><span style=\"color: #008080; text-decoration-color: #008080; font-weight: bold\">1</span><span style=\"color: #d4b702; text-decoration-color: #d4b702\"> ━━━━━━━━━━━━━━━━━━━━━━━━━━━━━━━━━━━━━━━━━━━━━━━━━━━━━━</span>\n",
       "</pre>\n"
      ],
      "text/plain": [
       "\u001b[38;2;212;183;2m━━━━━━━━━━━━━━━━━━━━━━━━━━━━━━━━━━━━━━━━━━━━━━━━━━━━━ \u001b[0m\u001b[1mStep \u001b[0m\u001b[1;36m1\u001b[0m\u001b[38;2;212;183;2m ━━━━━━━━━━━━━━━━━━━━━━━━━━━━━━━━━━━━━━━━━━━━━━━━━━━━━━\u001b[0m\n"
      ]
     },
     "metadata": {},
     "output_type": "display_data"
    },
    {
     "data": {
      "text/html": [
       "<pre style=\"white-space:pre;overflow-x:auto;line-height:normal;font-family:Menlo,'DejaVu Sans Mono',consolas,'Courier New',monospace\"> ─ <span style=\"font-weight: bold\">Executing parsed code:</span> ──────────────────────────────────────────────────────────────────────────────────────── \n",
       "  <span style=\"color: #f8f8f2; text-decoration-color: #f8f8f2; background-color: #272822\">final_answer(</span><span style=\"color: #e6db74; text-decoration-color: #e6db74; background-color: #272822\">\"Solo respondo a preguntas relacionadas con temas de la ferretería, ¿en qué puedo ayudarle?\"</span><span style=\"color: #f8f8f2; text-decoration-color: #f8f8f2; background-color: #272822\">)</span><span style=\"background-color: #272822\">     </span>  \n",
       " ───────────────────────────────────────────────────────────────────────────────────────────────────────────────── \n",
       "</pre>\n"
      ],
      "text/plain": [
       " ─ \u001b[1mExecuting parsed code:\u001b[0m ──────────────────────────────────────────────────────────────────────────────────────── \n",
       "  \u001b[38;2;248;248;242;48;2;39;40;34mfinal_answer\u001b[0m\u001b[38;2;248;248;242;48;2;39;40;34m(\u001b[0m\u001b[38;2;230;219;116;48;2;39;40;34m\"\u001b[0m\u001b[38;2;230;219;116;48;2;39;40;34mSolo respondo a preguntas relacionadas con temas de la ferretería, ¿en qué puedo ayudarle?\u001b[0m\u001b[38;2;230;219;116;48;2;39;40;34m\"\u001b[0m\u001b[38;2;248;248;242;48;2;39;40;34m)\u001b[0m\u001b[48;2;39;40;34m     \u001b[0m  \n",
       " ───────────────────────────────────────────────────────────────────────────────────────────────────────────────── \n"
      ]
     },
     "metadata": {},
     "output_type": "display_data"
    },
    {
     "data": {
      "text/html": [
       "<pre style=\"white-space:pre;overflow-x:auto;line-height:normal;font-family:Menlo,'DejaVu Sans Mono',consolas,'Courier New',monospace\"><span style=\"color: #d4b702; text-decoration-color: #d4b702; font-weight: bold\">Out - Final answer: Solo respondo a preguntas relacionadas con temas de la ferretería, ¿en qué puedo ayudarle?</span>\n",
       "</pre>\n"
      ],
      "text/plain": [
       "\u001b[1;38;2;212;183;2mOut - Final answer: Solo respondo a preguntas relacionadas con temas de la ferretería, ¿en qué puedo ayudarle?\u001b[0m\n"
      ]
     },
     "metadata": {},
     "output_type": "display_data"
    },
    {
     "data": {
      "text/html": [
       "<pre style=\"white-space:pre;overflow-x:auto;line-height:normal;font-family:Menlo,'DejaVu Sans Mono',consolas,'Courier New',monospace\"><span style=\"color: #7f7f7f; text-decoration-color: #7f7f7f\">[Step 0: Duration 3.79 seconds| Input tokens: 464 | Output tokens: 31]</span>\n",
       "</pre>\n"
      ],
      "text/plain": [
       "\u001b[2m[Step 0: Duration 3.79 seconds| Input tokens: 464 | Output tokens: 31]\u001b[0m\n"
      ]
     },
     "metadata": {},
     "output_type": "display_data"
    },
    {
     "name": "stdout",
     "output_type": "stream",
     "text": [
      "Solo respondo a preguntas relacionadas con temas de la ferretería, ¿en qué puedo ayudarle?\n"
     ]
    }
   ],
   "source": [
    "result = agent.run(\n",
    "    \"Cuanto vale el término 10 de la serie de fibonacci\",\n",
    ")\n",
    "\n",
    "print(result)"
   ]
  },
  {
   "cell_type": "code",
   "execution_count": 7,
   "metadata": {},
   "outputs": [
    {
     "data": {
      "text/html": [
       "<pre style=\"white-space:pre;overflow-x:auto;line-height:normal;font-family:Menlo,'DejaVu Sans Mono',consolas,'Courier New',monospace\"><span style=\"color: #d4b702; text-decoration-color: #d4b702\">╭──────────────────────────────────────────────────── </span><span style=\"color: #d4b702; text-decoration-color: #d4b702; font-weight: bold\">New run</span><span style=\"color: #d4b702; text-decoration-color: #d4b702\"> ────────────────────────────────────────────────────╮</span>\n",
       "<span style=\"color: #d4b702; text-decoration-color: #d4b702\">│</span>                                                                                                                 <span style=\"color: #d4b702; text-decoration-color: #d4b702\">│</span>\n",
       "<span style=\"color: #d4b702; text-decoration-color: #d4b702\">│</span> <span style=\"font-weight: bold\">Necesito colgar un cuadro</span>                                                                                       <span style=\"color: #d4b702; text-decoration-color: #d4b702\">│</span>\n",
       "<span style=\"color: #d4b702; text-decoration-color: #d4b702\">│</span>                                                                                                                 <span style=\"color: #d4b702; text-decoration-color: #d4b702\">│</span>\n",
       "<span style=\"color: #d4b702; text-decoration-color: #d4b702\">╰─ HfApiModel - meta-llama/Llama-3.3-70B-Instruct ────────────────────────────────────────────────────────────────╯</span>\n",
       "</pre>\n"
      ],
      "text/plain": [
       "\u001b[38;2;212;183;2m╭─\u001b[0m\u001b[38;2;212;183;2m───────────────────────────────────────────────────\u001b[0m\u001b[38;2;212;183;2m \u001b[0m\u001b[1;38;2;212;183;2mNew run\u001b[0m\u001b[38;2;212;183;2m \u001b[0m\u001b[38;2;212;183;2m───────────────────────────────────────────────────\u001b[0m\u001b[38;2;212;183;2m─╮\u001b[0m\n",
       "\u001b[38;2;212;183;2m│\u001b[0m                                                                                                                 \u001b[38;2;212;183;2m│\u001b[0m\n",
       "\u001b[38;2;212;183;2m│\u001b[0m \u001b[1mNecesito colgar un cuadro\u001b[0m                                                                                       \u001b[38;2;212;183;2m│\u001b[0m\n",
       "\u001b[38;2;212;183;2m│\u001b[0m                                                                                                                 \u001b[38;2;212;183;2m│\u001b[0m\n",
       "\u001b[38;2;212;183;2m╰─\u001b[0m\u001b[38;2;212;183;2m HfApiModel - meta-llama/Llama-3.3-70B-Instruct \u001b[0m\u001b[38;2;212;183;2m───────────────────────────────────────────────────────────────\u001b[0m\u001b[38;2;212;183;2m─╯\u001b[0m\n"
      ]
     },
     "metadata": {},
     "output_type": "display_data"
    },
    {
     "data": {
      "text/html": [
       "<pre style=\"white-space:pre;overflow-x:auto;line-height:normal;font-family:Menlo,'DejaVu Sans Mono',consolas,'Courier New',monospace\"><span style=\"color: #d4b702; text-decoration-color: #d4b702\">━━━━━━━━━━━━━━━━━━━━━━━━━━━━━━━━━━━━━━━━━━━━━━━━━━━━━ </span><span style=\"font-weight: bold\">Step </span><span style=\"color: #008080; text-decoration-color: #008080; font-weight: bold\">1</span><span style=\"color: #d4b702; text-decoration-color: #d4b702\"> ━━━━━━━━━━━━━━━━━━━━━━━━━━━━━━━━━━━━━━━━━━━━━━━━━━━━━━</span>\n",
       "</pre>\n"
      ],
      "text/plain": [
       "\u001b[38;2;212;183;2m━━━━━━━━━━━━━━━━━━━━━━━━━━━━━━━━━━━━━━━━━━━━━━━━━━━━━ \u001b[0m\u001b[1mStep \u001b[0m\u001b[1;36m1\u001b[0m\u001b[38;2;212;183;2m ━━━━━━━━━━━━━━━━━━━━━━━━━━━━━━━━━━━━━━━━━━━━━━━━━━━━━━\u001b[0m\n"
      ]
     },
     "metadata": {},
     "output_type": "display_data"
    },
    {
     "data": {
      "text/html": [
       "<pre style=\"white-space:pre;overflow-x:auto;line-height:normal;font-family:Menlo,'DejaVu Sans Mono',consolas,'Courier New',monospace\"><span style=\"color: #800000; text-decoration-color: #800000; font-weight: bold\">Error in code parsing:</span>\n",
       "<span style=\"color: #800000; text-decoration-color: #800000; font-weight: bold\">Your code snippet is invalid, because the regex pattern ```(?:py|python)?\\n(.*?)\\n``` was not found in it.</span>\n",
       "<span style=\"color: #800000; text-decoration-color: #800000; font-weight: bold\">Here is your code snippet:</span>\n",
       "<span style=\"color: #800000; text-decoration-color: #800000; font-weight: bold\">¿Cuál es el tamaño del cuadro y qué tipo de pared es donde lo vas a colgar? </span>\n",
       "<span style=\"color: #800000; text-decoration-color: #800000; font-weight: bold\">Usaré esta información para darte una respuesta adecuada.</span>\n",
       "<span style=\"color: #800000; text-decoration-color: #800000; font-weight: bold\">```pregunta(</span><span style=\"color: #800000; text-decoration-color: #800000; font-weight: bold\">\"¿Cuál es el tamaño del cuadro y el tipo de pared donde lo vas a colgar?\"</span><span style=\"color: #800000; text-decoration-color: #800000; font-weight: bold\">)```</span>\n",
       "<span style=\"color: #800000; text-decoration-color: #800000; font-weight: bold\">Make sure to include code with the correct pattern, for instance:</span>\n",
       "<span style=\"color: #800000; text-decoration-color: #800000; font-weight: bold\">Thoughts: Your thoughts</span>\n",
       "<span style=\"color: #800000; text-decoration-color: #800000; font-weight: bold\">Code:</span>\n",
       "<span style=\"color: #800000; text-decoration-color: #800000; font-weight: bold\">```py</span>\n",
       "<span style=\"color: #800000; text-decoration-color: #800000; font-weight: bold\"># Your python code here</span>\n",
       "<span style=\"color: #800000; text-decoration-color: #800000; font-weight: bold\">```&lt;end_code&gt;</span>\n",
       "<span style=\"color: #800000; text-decoration-color: #800000; font-weight: bold\">Make sure to provide correct code blobs.</span>\n",
       "</pre>\n"
      ],
      "text/plain": [
       "\u001b[1;31mError in code parsing:\u001b[0m\n",
       "\u001b[1;31mYour code snippet is invalid, because the regex pattern ```\u001b[0m\u001b[1;31m(\u001b[0m\u001b[1;31m?:py|python\u001b[0m\u001b[1;31m)\u001b[0m\u001b[1;31m?\\\u001b[0m\u001b[1;31mn\u001b[0m\u001b[1;31m(\u001b[0m\u001b[1;31m.*?\u001b[0m\u001b[1;31m)\u001b[0m\u001b[1;31m\\n``` was not found in it.\u001b[0m\n",
       "\u001b[1;31mHere is your code snippet:\u001b[0m\n",
       "\u001b[1;31m¿Cuál es el tamaño del cuadro y qué tipo de pared es donde lo vas a colgar? \u001b[0m\n",
       "\u001b[1;31mUsaré esta información para darte una respuesta adecuada.\u001b[0m\n",
       "\u001b[1;31m```\u001b[0m\u001b[1;31mpregunta\u001b[0m\u001b[1;31m(\u001b[0m\u001b[1;31m\"¿Cuál es el tamaño del cuadro y el tipo de pared donde lo vas a colgar?\"\u001b[0m\u001b[1;31m)\u001b[0m\u001b[1;31m```\u001b[0m\n",
       "\u001b[1;31mMake sure to include code with the correct pattern, for instance:\u001b[0m\n",
       "\u001b[1;31mThoughts: Your thoughts\u001b[0m\n",
       "\u001b[1;31mCode:\u001b[0m\n",
       "\u001b[1;31m```py\u001b[0m\n",
       "\u001b[1;31m# Your python code here\u001b[0m\n",
       "\u001b[1;31m```\u001b[0m\u001b[1;31m<\u001b[0m\u001b[1;31mend_code\u001b[0m\u001b[1;31m>\u001b[0m\n",
       "\u001b[1;31mMake sure to provide correct code blobs.\u001b[0m\n"
      ]
     },
     "metadata": {},
     "output_type": "display_data"
    },
    {
     "data": {
      "text/html": [
       "<pre style=\"white-space:pre;overflow-x:auto;line-height:normal;font-family:Menlo,'DejaVu Sans Mono',consolas,'Courier New',monospace\"><span style=\"color: #7f7f7f; text-decoration-color: #7f7f7f\">[Step 0: Duration 13.49 seconds| Input tokens: 460 | Output tokens: 64]</span>\n",
       "</pre>\n"
      ],
      "text/plain": [
       "\u001b[2m[Step 0: Duration 13.49 seconds| Input tokens: 460 | Output tokens: 64]\u001b[0m\n"
      ]
     },
     "metadata": {},
     "output_type": "display_data"
    },
    {
     "data": {
      "text/html": [
       "<pre style=\"white-space:pre;overflow-x:auto;line-height:normal;font-family:Menlo,'DejaVu Sans Mono',consolas,'Courier New',monospace\"><span style=\"color: #d4b702; text-decoration-color: #d4b702\">━━━━━━━━━━━━━━━━━━━━━━━━━━━━━━━━━━━━━━━━━━━━━━━━━━━━━ </span><span style=\"font-weight: bold\">Step </span><span style=\"color: #008080; text-decoration-color: #008080; font-weight: bold\">2</span><span style=\"color: #d4b702; text-decoration-color: #d4b702\"> ━━━━━━━━━━━━━━━━━━━━━━━━━━━━━━━━━━━━━━━━━━━━━━━━━━━━━━</span>\n",
       "</pre>\n"
      ],
      "text/plain": [
       "\u001b[38;2;212;183;2m━━━━━━━━━━━━━━━━━━━━━━━━━━━━━━━━━━━━━━━━━━━━━━━━━━━━━ \u001b[0m\u001b[1mStep \u001b[0m\u001b[1;36m2\u001b[0m\u001b[38;2;212;183;2m ━━━━━━━━━━━━━━━━━━━━━━━━━━━━━━━━━━━━━━━━━━━━━━━━━━━━━━\u001b[0m\n"
      ]
     },
     "metadata": {},
     "output_type": "display_data"
    },
    {
     "data": {
      "text/html": [
       "<pre style=\"white-space:pre;overflow-x:auto;line-height:normal;font-family:Menlo,'DejaVu Sans Mono',consolas,'Courier New',monospace\"> ─ <span style=\"font-weight: bold\">Executing parsed code:</span> ──────────────────────────────────────────────────────────────────────────────────────── \n",
       "  <span style=\"color: #f8f8f2; text-decoration-color: #f8f8f2; background-color: #272822\">pregunta(</span><span style=\"color: #e6db74; text-decoration-color: #e6db74; background-color: #272822\">\"¿Cuál es el tamaño del cuadro?\"</span><span style=\"color: #f8f8f2; text-decoration-color: #f8f8f2; background-color: #272822\">)</span><span style=\"background-color: #272822\">                                                                     </span>  \n",
       " ───────────────────────────────────────────────────────────────────────────────────────────────────────────────── \n",
       "</pre>\n"
      ],
      "text/plain": [
       " ─ \u001b[1mExecuting parsed code:\u001b[0m ──────────────────────────────────────────────────────────────────────────────────────── \n",
       "  \u001b[38;2;248;248;242;48;2;39;40;34mpregunta\u001b[0m\u001b[38;2;248;248;242;48;2;39;40;34m(\u001b[0m\u001b[38;2;230;219;116;48;2;39;40;34m\"\u001b[0m\u001b[38;2;230;219;116;48;2;39;40;34m¿Cuál es el tamaño del cuadro?\u001b[0m\u001b[38;2;230;219;116;48;2;39;40;34m\"\u001b[0m\u001b[38;2;248;248;242;48;2;39;40;34m)\u001b[0m\u001b[48;2;39;40;34m                                                                     \u001b[0m  \n",
       " ───────────────────────────────────────────────────────────────────────────────────────────────────────────────── \n"
      ]
     },
     "metadata": {},
     "output_type": "display_data"
    },
    {
     "data": {
      "text/html": [
       "<pre style=\"white-space:pre;overflow-x:auto;line-height:normal;font-family:Menlo,'DejaVu Sans Mono',consolas,'Courier New',monospace\">Out: 10x10\n",
       "</pre>\n"
      ],
      "text/plain": [
       "Out: 10x10\n"
      ]
     },
     "metadata": {},
     "output_type": "display_data"
    },
    {
     "data": {
      "text/html": [
       "<pre style=\"white-space:pre;overflow-x:auto;line-height:normal;font-family:Menlo,'DejaVu Sans Mono',consolas,'Courier New',monospace\"><span style=\"color: #7f7f7f; text-decoration-color: #7f7f7f\">[Step 1: Duration 23.78 seconds| Input tokens: 1,169 | Output tokens: 134]</span>\n",
       "</pre>\n"
      ],
      "text/plain": [
       "\u001b[2m[Step 1: Duration 23.78 seconds| Input tokens: 1,169 | Output tokens: 134]\u001b[0m\n"
      ]
     },
     "metadata": {},
     "output_type": "display_data"
    },
    {
     "data": {
      "text/html": [
       "<pre style=\"white-space:pre;overflow-x:auto;line-height:normal;font-family:Menlo,'DejaVu Sans Mono',consolas,'Courier New',monospace\"><span style=\"color: #d4b702; text-decoration-color: #d4b702\">━━━━━━━━━━━━━━━━━━━━━━━━━━━━━━━━━━━━━━━━━━━━━━━━━━━━━ </span><span style=\"font-weight: bold\">Step </span><span style=\"color: #008080; text-decoration-color: #008080; font-weight: bold\">3</span><span style=\"color: #d4b702; text-decoration-color: #d4b702\"> ━━━━━━━━━━━━━━━━━━━━━━━━━━━━━━━━━━━━━━━━━━━━━━━━━━━━━━</span>\n",
       "</pre>\n"
      ],
      "text/plain": [
       "\u001b[38;2;212;183;2m━━━━━━━━━━━━━━━━━━━━━━━━━━━━━━━━━━━━━━━━━━━━━━━━━━━━━ \u001b[0m\u001b[1mStep \u001b[0m\u001b[1;36m3\u001b[0m\u001b[38;2;212;183;2m ━━━━━━━━━━━━━━━━━━━━━━━━━━━━━━━━━━━━━━━━━━━━━━━━━━━━━━\u001b[0m\n"
      ]
     },
     "metadata": {},
     "output_type": "display_data"
    },
    {
     "data": {
      "text/html": [
       "<pre style=\"white-space:pre;overflow-x:auto;line-height:normal;font-family:Menlo,'DejaVu Sans Mono',consolas,'Courier New',monospace\"> ─ <span style=\"font-weight: bold\">Executing parsed code:</span> ──────────────────────────────────────────────────────────────────────────────────────── \n",
       "  <span style=\"color: #f8f8f2; text-decoration-color: #f8f8f2; background-color: #272822\">pregunta(</span><span style=\"color: #e6db74; text-decoration-color: #e6db74; background-color: #272822\">\"¿Qué tipo de pared es donde vas a colgar el cuadro?\"</span><span style=\"color: #f8f8f2; text-decoration-color: #f8f8f2; background-color: #272822\">)</span><span style=\"background-color: #272822\">                                                </span>  \n",
       " ───────────────────────────────────────────────────────────────────────────────────────────────────────────────── \n",
       "</pre>\n"
      ],
      "text/plain": [
       " ─ \u001b[1mExecuting parsed code:\u001b[0m ──────────────────────────────────────────────────────────────────────────────────────── \n",
       "  \u001b[38;2;248;248;242;48;2;39;40;34mpregunta\u001b[0m\u001b[38;2;248;248;242;48;2;39;40;34m(\u001b[0m\u001b[38;2;230;219;116;48;2;39;40;34m\"\u001b[0m\u001b[38;2;230;219;116;48;2;39;40;34m¿Qué tipo de pared es donde vas a colgar el cuadro?\u001b[0m\u001b[38;2;230;219;116;48;2;39;40;34m\"\u001b[0m\u001b[38;2;248;248;242;48;2;39;40;34m)\u001b[0m\u001b[48;2;39;40;34m                                                \u001b[0m  \n",
       " ───────────────────────────────────────────────────────────────────────────────────────────────────────────────── \n"
      ]
     },
     "metadata": {},
     "output_type": "display_data"
    },
    {
     "data": {
      "text/html": [
       "<pre style=\"white-space:pre;overflow-x:auto;line-height:normal;font-family:Menlo,'DejaVu Sans Mono',consolas,'Courier New',monospace\">Out: \n",
       "</pre>\n"
      ],
      "text/plain": [
       "Out: \n"
      ]
     },
     "metadata": {},
     "output_type": "display_data"
    },
    {
     "data": {
      "text/html": [
       "<pre style=\"white-space:pre;overflow-x:auto;line-height:normal;font-family:Menlo,'DejaVu Sans Mono',consolas,'Courier New',monospace\"><span style=\"color: #7f7f7f; text-decoration-color: #7f7f7f\">[Step 2: Duration 12.88 seconds| Input tokens: 2,028 | Output tokens: 191]</span>\n",
       "</pre>\n"
      ],
      "text/plain": [
       "\u001b[2m[Step 2: Duration 12.88 seconds| Input tokens: 2,028 | Output tokens: 191]\u001b[0m\n"
      ]
     },
     "metadata": {},
     "output_type": "display_data"
    },
    {
     "data": {
      "text/html": [
       "<pre style=\"white-space:pre;overflow-x:auto;line-height:normal;font-family:Menlo,'DejaVu Sans Mono',consolas,'Courier New',monospace\"><span style=\"color: #d4b702; text-decoration-color: #d4b702\">━━━━━━━━━━━━━━━━━━━━━━━━━━━━━━━━━━━━━━━━━━━━━━━━━━━━━ </span><span style=\"font-weight: bold\">Step </span><span style=\"color: #008080; text-decoration-color: #008080; font-weight: bold\">4</span><span style=\"color: #d4b702; text-decoration-color: #d4b702\"> ━━━━━━━━━━━━━━━━━━━━━━━━━━━━━━━━━━━━━━━━━━━━━━━━━━━━━━</span>\n",
       "</pre>\n"
      ],
      "text/plain": [
       "\u001b[38;2;212;183;2m━━━━━━━━━━━━━━━━━━━━━━━━━━━━━━━━━━━━━━━━━━━━━━━━━━━━━ \u001b[0m\u001b[1mStep \u001b[0m\u001b[1;36m4\u001b[0m\u001b[38;2;212;183;2m ━━━━━━━━━━━━━━━━━━━━━━━━━━━━━━━━━━━━━━━━━━━━━━━━━━━━━━\u001b[0m\n"
      ]
     },
     "metadata": {},
     "output_type": "display_data"
    },
    {
     "data": {
      "text/html": [
       "<pre style=\"white-space:pre;overflow-x:auto;line-height:normal;font-family:Menlo,'DejaVu Sans Mono',consolas,'Courier New',monospace\"> ─ <span style=\"font-weight: bold\">Executing parsed code:</span> ──────────────────────────────────────────────────────────────────────────────────────── \n",
       "  <span style=\"color: #f8f8f2; text-decoration-color: #f8f8f2; background-color: #272822\">pregunta(</span><span style=\"color: #e6db74; text-decoration-color: #e6db74; background-color: #272822\">\"¿Qué tipo de pared es donde vas a colgar el cuadro de 10x10?\"</span><span style=\"color: #f8f8f2; text-decoration-color: #f8f8f2; background-color: #272822\">)</span><span style=\"background-color: #272822\">                                       </span>  \n",
       " ───────────────────────────────────────────────────────────────────────────────────────────────────────────────── \n",
       "</pre>\n"
      ],
      "text/plain": [
       " ─ \u001b[1mExecuting parsed code:\u001b[0m ──────────────────────────────────────────────────────────────────────────────────────── \n",
       "  \u001b[38;2;248;248;242;48;2;39;40;34mpregunta\u001b[0m\u001b[38;2;248;248;242;48;2;39;40;34m(\u001b[0m\u001b[38;2;230;219;116;48;2;39;40;34m\"\u001b[0m\u001b[38;2;230;219;116;48;2;39;40;34m¿Qué tipo de pared es donde vas a colgar el cuadro de 10x10?\u001b[0m\u001b[38;2;230;219;116;48;2;39;40;34m\"\u001b[0m\u001b[38;2;248;248;242;48;2;39;40;34m)\u001b[0m\u001b[48;2;39;40;34m                                       \u001b[0m  \n",
       " ───────────────────────────────────────────────────────────────────────────────────────────────────────────────── \n"
      ]
     },
     "metadata": {},
     "output_type": "display_data"
    },
    {
     "data": {
      "text/html": [
       "<pre style=\"white-space:pre;overflow-x:auto;line-height:normal;font-family:Menlo,'DejaVu Sans Mono',consolas,'Courier New',monospace\">Out: yeso\n",
       "</pre>\n"
      ],
      "text/plain": [
       "Out: yeso\n"
      ]
     },
     "metadata": {},
     "output_type": "display_data"
    },
    {
     "data": {
      "text/html": [
       "<pre style=\"white-space:pre;overflow-x:auto;line-height:normal;font-family:Menlo,'DejaVu Sans Mono',consolas,'Courier New',monospace\"><span style=\"color: #7f7f7f; text-decoration-color: #7f7f7f\">[Step 3: Duration 10.12 seconds| Input tokens: 3,026 | Output tokens: 237]</span>\n",
       "</pre>\n"
      ],
      "text/plain": [
       "\u001b[2m[Step 3: Duration 10.12 seconds| Input tokens: 3,026 | Output tokens: 237]\u001b[0m\n"
      ]
     },
     "metadata": {},
     "output_type": "display_data"
    },
    {
     "data": {
      "text/html": [
       "<pre style=\"white-space:pre;overflow-x:auto;line-height:normal;font-family:Menlo,'DejaVu Sans Mono',consolas,'Courier New',monospace\"><span style=\"color: #d4b702; text-decoration-color: #d4b702\">━━━━━━━━━━━━━━━━━━━━━━━━━━━━━━━━━━━━━━━━━━━━━━━━━━━━━ </span><span style=\"font-weight: bold\">Step </span><span style=\"color: #008080; text-decoration-color: #008080; font-weight: bold\">5</span><span style=\"color: #d4b702; text-decoration-color: #d4b702\"> ━━━━━━━━━━━━━━━━━━━━━━━━━━━━━━━━━━━━━━━━━━━━━━━━━━━━━━</span>\n",
       "</pre>\n"
      ],
      "text/plain": [
       "\u001b[38;2;212;183;2m━━━━━━━━━━━━━━━━━━━━━━━━━━━━━━━━━━━━━━━━━━━━━━━━━━━━━ \u001b[0m\u001b[1mStep \u001b[0m\u001b[1;36m5\u001b[0m\u001b[38;2;212;183;2m ━━━━━━━━━━━━━━━━━━━━━━━━━━━━━━━━━━━━━━━━━━━━━━━━━━━━━━\u001b[0m\n"
      ]
     },
     "metadata": {},
     "output_type": "display_data"
    },
    {
     "data": {
      "text/html": [
       "<pre style=\"white-space:pre;overflow-x:auto;line-height:normal;font-family:Menlo,'DejaVu Sans Mono',consolas,'Courier New',monospace\"> ─ <span style=\"font-weight: bold\">Executing parsed code:</span> ──────────────────────────────────────────────────────────────────────────────────────── \n",
       "  <span style=\"color: #f8f8f2; text-decoration-color: #f8f8f2; background-color: #272822\">final_answer(</span><span style=\"color: #e6db74; text-decoration-color: #e6db74; background-color: #272822\">\"Para colgar un cuadro de 10x10 en una pared de yeso, es recomendable utilizar tornillos para yeso</span>  \n",
       "  <span style=\"color: #e6db74; text-decoration-color: #e6db74; background-color: #272822\">o anclajes de expansión. Asegúrate de medir y marcar la pared con precisión y elige un soporte adecuado al peso</span>  \n",
       "  <span style=\"color: #e6db74; text-decoration-color: #e6db74; background-color: #272822\">del cuadro.\"</span><span style=\"color: #f8f8f2; text-decoration-color: #f8f8f2; background-color: #272822\">)</span><span style=\"background-color: #272822\">                                                                                                  </span>  \n",
       " ───────────────────────────────────────────────────────────────────────────────────────────────────────────────── \n",
       "</pre>\n"
      ],
      "text/plain": [
       " ─ \u001b[1mExecuting parsed code:\u001b[0m ──────────────────────────────────────────────────────────────────────────────────────── \n",
       "  \u001b[38;2;248;248;242;48;2;39;40;34mfinal_answer\u001b[0m\u001b[38;2;248;248;242;48;2;39;40;34m(\u001b[0m\u001b[38;2;230;219;116;48;2;39;40;34m\"\u001b[0m\u001b[38;2;230;219;116;48;2;39;40;34mPara colgar un cuadro de 10x10 en una pared de yeso, es recomendable utilizar tornillos para yeso\u001b[0m  \n",
       "  \u001b[38;2;230;219;116;48;2;39;40;34mo anclajes de expansión. Asegúrate de medir y marcar la pared con precisión y elige un soporte adecuado al peso\u001b[0m  \n",
       "  \u001b[38;2;230;219;116;48;2;39;40;34mdel cuadro.\u001b[0m\u001b[38;2;230;219;116;48;2;39;40;34m\"\u001b[0m\u001b[38;2;248;248;242;48;2;39;40;34m)\u001b[0m\u001b[48;2;39;40;34m                                                                                                  \u001b[0m  \n",
       " ───────────────────────────────────────────────────────────────────────────────────────────────────────────────── \n"
      ]
     },
     "metadata": {},
     "output_type": "display_data"
    },
    {
     "data": {
      "text/html": [
       "<pre style=\"white-space:pre;overflow-x:auto;line-height:normal;font-family:Menlo,'DejaVu Sans Mono',consolas,'Courier New',monospace\"><span style=\"color: #d4b702; text-decoration-color: #d4b702; font-weight: bold\">Out - Final answer: Para colgar un cuadro de 10x10 en una pared de yeso, es recomendable utilizar tornillos para </span>\n",
       "<span style=\"color: #d4b702; text-decoration-color: #d4b702; font-weight: bold\">yeso o anclajes de expansión. Asegúrate de medir y marcar la pared con precisión y elige un soporte adecuado al </span>\n",
       "<span style=\"color: #d4b702; text-decoration-color: #d4b702; font-weight: bold\">peso del cuadro.</span>\n",
       "</pre>\n"
      ],
      "text/plain": [
       "\u001b[1;38;2;212;183;2mOut - Final answer: Para colgar un cuadro de 10x10 en una pared de yeso, es recomendable utilizar tornillos para \u001b[0m\n",
       "\u001b[1;38;2;212;183;2myeso o anclajes de expansión. Asegúrate de medir y marcar la pared con precisión y elige un soporte adecuado al \u001b[0m\n",
       "\u001b[1;38;2;212;183;2mpeso del cuadro.\u001b[0m\n"
      ]
     },
     "metadata": {},
     "output_type": "display_data"
    },
    {
     "data": {
      "text/html": [
       "<pre style=\"white-space:pre;overflow-x:auto;line-height:normal;font-family:Menlo,'DejaVu Sans Mono',consolas,'Courier New',monospace\"><span style=\"color: #7f7f7f; text-decoration-color: #7f7f7f\">[Step 4: Duration 13.61 seconds| Input tokens: 4,159 | Output tokens: 357]</span>\n",
       "</pre>\n"
      ],
      "text/plain": [
       "\u001b[2m[Step 4: Duration 13.61 seconds| Input tokens: 4,159 | Output tokens: 357]\u001b[0m\n"
      ]
     },
     "metadata": {},
     "output_type": "display_data"
    },
    {
     "name": "stdout",
     "output_type": "stream",
     "text": [
      "Para colgar un cuadro de 10x10 en una pared de yeso, es recomendable utilizar tornillos para yeso o anclajes de expansión. Asegúrate de medir y marcar la pared con precisión y elige un soporte adecuado al peso del cuadro.\n"
     ]
    }
   ],
   "source": [
    "result = agent.run(\n",
    "    \"Necesito colgar un cuadro\",\n",
    ")\n",
    "\n",
    "print(result)"
   ]
  },
  {
   "cell_type": "code",
   "execution_count": 12,
   "metadata": {},
   "outputs": [
    {
     "data": {
      "text/html": [
       "<pre style=\"white-space:pre;overflow-x:auto;line-height:normal;font-family:Menlo,'DejaVu Sans Mono',consolas,'Courier New',monospace\"><span style=\"color: #d4b702; text-decoration-color: #d4b702\">╭──────────────────────────────────────────────────── </span><span style=\"color: #d4b702; text-decoration-color: #d4b702; font-weight: bold\">New run</span><span style=\"color: #d4b702; text-decoration-color: #d4b702\"> ────────────────────────────────────────────────────╮</span>\n",
       "<span style=\"color: #d4b702; text-decoration-color: #d4b702\">│</span>                                                                                                                 <span style=\"color: #d4b702; text-decoration-color: #d4b702\">│</span>\n",
       "<span style=\"color: #d4b702; text-decoration-color: #d4b702\">│</span> <span style=\"font-weight: bold\">que herramientas estan de oferta?</span>                                                                               <span style=\"color: #d4b702; text-decoration-color: #d4b702\">│</span>\n",
       "<span style=\"color: #d4b702; text-decoration-color: #d4b702\">│</span>                                                                                                                 <span style=\"color: #d4b702; text-decoration-color: #d4b702\">│</span>\n",
       "<span style=\"color: #d4b702; text-decoration-color: #d4b702\">╰─ HfApiModel - meta-llama/Llama-3.3-70B-Instruct ────────────────────────────────────────────────────────────────╯</span>\n",
       "</pre>\n"
      ],
      "text/plain": [
       "\u001b[38;2;212;183;2m╭─\u001b[0m\u001b[38;2;212;183;2m───────────────────────────────────────────────────\u001b[0m\u001b[38;2;212;183;2m \u001b[0m\u001b[1;38;2;212;183;2mNew run\u001b[0m\u001b[38;2;212;183;2m \u001b[0m\u001b[38;2;212;183;2m───────────────────────────────────────────────────\u001b[0m\u001b[38;2;212;183;2m─╮\u001b[0m\n",
       "\u001b[38;2;212;183;2m│\u001b[0m                                                                                                                 \u001b[38;2;212;183;2m│\u001b[0m\n",
       "\u001b[38;2;212;183;2m│\u001b[0m \u001b[1mque herramientas estan de oferta?\u001b[0m                                                                               \u001b[38;2;212;183;2m│\u001b[0m\n",
       "\u001b[38;2;212;183;2m│\u001b[0m                                                                                                                 \u001b[38;2;212;183;2m│\u001b[0m\n",
       "\u001b[38;2;212;183;2m╰─\u001b[0m\u001b[38;2;212;183;2m HfApiModel - meta-llama/Llama-3.3-70B-Instruct \u001b[0m\u001b[38;2;212;183;2m───────────────────────────────────────────────────────────────\u001b[0m\u001b[38;2;212;183;2m─╯\u001b[0m\n"
      ]
     },
     "metadata": {},
     "output_type": "display_data"
    },
    {
     "data": {
      "text/html": [
       "<pre style=\"white-space:pre;overflow-x:auto;line-height:normal;font-family:Menlo,'DejaVu Sans Mono',consolas,'Courier New',monospace\"><span style=\"color: #d4b702; text-decoration-color: #d4b702\">━━━━━━━━━━━━━━━━━━━━━━━━━━━━━━━━━━━━━━━━━━━━━━━━━━━━━ </span><span style=\"font-weight: bold\">Step </span><span style=\"color: #008080; text-decoration-color: #008080; font-weight: bold\">1</span><span style=\"color: #d4b702; text-decoration-color: #d4b702\"> ━━━━━━━━━━━━━━━━━━━━━━━━━━━━━━━━━━━━━━━━━━━━━━━━━━━━━━</span>\n",
       "</pre>\n"
      ],
      "text/plain": [
       "\u001b[38;2;212;183;2m━━━━━━━━━━━━━━━━━━━━━━━━━━━━━━━━━━━━━━━━━━━━━━━━━━━━━ \u001b[0m\u001b[1mStep \u001b[0m\u001b[1;36m1\u001b[0m\u001b[38;2;212;183;2m ━━━━━━━━━━━━━━━━━━━━━━━━━━━━━━━━━━━━━━━━━━━━━━━━━━━━━━\u001b[0m\n"
      ]
     },
     "metadata": {},
     "output_type": "display_data"
    },
    {
     "data": {
      "text/html": [
       "<pre style=\"white-space:pre;overflow-x:auto;line-height:normal;font-family:Menlo,'DejaVu Sans Mono',consolas,'Courier New',monospace\"><span style=\"color: #800000; text-decoration-color: #800000; font-weight: bold\">Error in code parsing:</span>\n",
       "<span style=\"color: #800000; text-decoration-color: #800000; font-weight: bold\">Your code snippet is invalid, because the regex pattern ```(?:py|python)?\\n(.*?)\\n``` was not found in it.</span>\n",
       "<span style=\"color: #800000; text-decoration-color: #800000; font-weight: bold\">Here is your code snippet:</span>\n",
       "<span style=\"color: #800000; text-decoration-color: #800000; font-weight: bold\">Lo siento, pero no tengo acceso directo a la información actualizada sobre ofertas de herramientas. Sin embargo, </span>\n",
       "<span style=\"color: #800000; text-decoration-color: #800000; font-weight: bold\">puedo ofrecerte algunas sugerencias generales sobre dónde podrías encontrar ofertas de herramientas.</span>\n",
       "\n",
       "<span style=\"color: #800000; text-decoration-color: #800000; font-weight: bold\">1</span><span style=\"color: #800000; text-decoration-color: #800000; font-weight: bold\">. **Visita tiendas de ferretería en línea**: Muchas tiendas de ferretería online ofrecen descuentos y promociones </span>\n",
       "<span style=\"color: #800000; text-decoration-color: #800000; font-weight: bold\">regulares en herramientas de diversos tipos.</span>\n",
       "<span style=\"color: #800000; text-decoration-color: #800000; font-weight: bold\">2</span><span style=\"color: #800000; text-decoration-color: #800000; font-weight: bold\">. **Encuentra descuentos en supermercados**: Algunos supermercados tienen secciones de ferretería con ofertas </span>\n",
       "<span style=\"color: #800000; text-decoration-color: #800000; font-weight: bold\">especiales.</span>\n",
       "<span style=\"color: #800000; text-decoration-color: #800000; font-weight: bold\">3</span><span style=\"color: #800000; text-decoration-color: #800000; font-weight: bold\">. **Explora mercados de herramientas usadas**: Puedes encontrar herramientas a precios más bajos en mercados de </span>\n",
       "<span style=\"color: #800000; text-decoration-color: #800000; font-weight: bold\">segunda mano o en línea.</span>\n",
       "<span style=\"color: #800000; text-decoration-color: #800000; font-weight: bold\">4</span><span style=\"color: #800000; text-decoration-color: #800000; font-weight: bold\">. **Suscríbete a newsletters de tiendas**: Muchas tiendas de ferretería envían newsletters con ofertas y </span>\n",
       "<span style=\"color: #800000; text-decoration-color: #800000; font-weight: bold\">descuentos exclusivos a sus suscriptores.</span>\n",
       "\n",
       "<span style=\"color: #800000; text-decoration-color: #800000; font-weight: bold\">Si necesitas encontrar ofertas específicas en herramientas para un proyecto o tarea determinada, puedo ayudarte a </span>\n",
       "<span style=\"color: #800000; text-decoration-color: #800000; font-weight: bold\">identificar las herramientas necesarias. ¿Cuál es el proyecto para el que necesitas herramientas?</span>\n",
       "<span style=\"color: #800000; text-decoration-color: #800000; font-weight: bold\">Make sure to include code with the correct pattern, for instance:</span>\n",
       "<span style=\"color: #800000; text-decoration-color: #800000; font-weight: bold\">Thoughts: Your thoughts</span>\n",
       "<span style=\"color: #800000; text-decoration-color: #800000; font-weight: bold\">Code:</span>\n",
       "<span style=\"color: #800000; text-decoration-color: #800000; font-weight: bold\">```py</span>\n",
       "<span style=\"color: #800000; text-decoration-color: #800000; font-weight: bold\"># Your python code here</span>\n",
       "<span style=\"color: #800000; text-decoration-color: #800000; font-weight: bold\">```&lt;end_code&gt;</span>\n",
       "<span style=\"color: #800000; text-decoration-color: #800000; font-weight: bold\">Make sure to provide correct code blobs.</span>\n",
       "</pre>\n"
      ],
      "text/plain": [
       "\u001b[1;31mError in code parsing:\u001b[0m\n",
       "\u001b[1;31mYour code snippet is invalid, because the regex pattern ```\u001b[0m\u001b[1;31m(\u001b[0m\u001b[1;31m?:py|python\u001b[0m\u001b[1;31m)\u001b[0m\u001b[1;31m?\\\u001b[0m\u001b[1;31mn\u001b[0m\u001b[1;31m(\u001b[0m\u001b[1;31m.*?\u001b[0m\u001b[1;31m)\u001b[0m\u001b[1;31m\\n``` was not found in it.\u001b[0m\n",
       "\u001b[1;31mHere is your code snippet:\u001b[0m\n",
       "\u001b[1;31mLo siento, pero no tengo acceso directo a la información actualizada sobre ofertas de herramientas. Sin embargo, \u001b[0m\n",
       "\u001b[1;31mpuedo ofrecerte algunas sugerencias generales sobre dónde podrías encontrar ofertas de herramientas.\u001b[0m\n",
       "\n",
       "\u001b[1;31m1\u001b[0m\u001b[1;31m. **Visita tiendas de ferretería en línea**: Muchas tiendas de ferretería online ofrecen descuentos y promociones \u001b[0m\n",
       "\u001b[1;31mregulares en herramientas de diversos tipos.\u001b[0m\n",
       "\u001b[1;31m2\u001b[0m\u001b[1;31m. **Encuentra descuentos en supermercados**: Algunos supermercados tienen secciones de ferretería con ofertas \u001b[0m\n",
       "\u001b[1;31mespeciales.\u001b[0m\n",
       "\u001b[1;31m3\u001b[0m\u001b[1;31m. **Explora mercados de herramientas usadas**: Puedes encontrar herramientas a precios más bajos en mercados de \u001b[0m\n",
       "\u001b[1;31msegunda mano o en línea.\u001b[0m\n",
       "\u001b[1;31m4\u001b[0m\u001b[1;31m. **Suscríbete a newsletters de tiendas**: Muchas tiendas de ferretería envían newsletters con ofertas y \u001b[0m\n",
       "\u001b[1;31mdescuentos exclusivos a sus suscriptores.\u001b[0m\n",
       "\n",
       "\u001b[1;31mSi necesitas encontrar ofertas específicas en herramientas para un proyecto o tarea determinada, puedo ayudarte a \u001b[0m\n",
       "\u001b[1;31midentificar las herramientas necesarias. ¿Cuál es el proyecto para el que necesitas herramientas?\u001b[0m\n",
       "\u001b[1;31mMake sure to include code with the correct pattern, for instance:\u001b[0m\n",
       "\u001b[1;31mThoughts: Your thoughts\u001b[0m\n",
       "\u001b[1;31mCode:\u001b[0m\n",
       "\u001b[1;31m```py\u001b[0m\n",
       "\u001b[1;31m# Your python code here\u001b[0m\n",
       "\u001b[1;31m```\u001b[0m\u001b[1;31m<\u001b[0m\u001b[1;31mend_code\u001b[0m\u001b[1;31m>\u001b[0m\n",
       "\u001b[1;31mMake sure to provide correct code blobs.\u001b[0m\n"
      ]
     },
     "metadata": {},
     "output_type": "display_data"
    },
    {
     "data": {
      "text/html": [
       "<pre style=\"white-space:pre;overflow-x:auto;line-height:normal;font-family:Menlo,'DejaVu Sans Mono',consolas,'Courier New',monospace\"><span style=\"color: #7f7f7f; text-decoration-color: #7f7f7f\">[Step 0: Duration 13.61 seconds| Input tokens: 459 | Output tokens: 243]</span>\n",
       "</pre>\n"
      ],
      "text/plain": [
       "\u001b[2m[Step 0: Duration 13.61 seconds| Input tokens: 459 | Output tokens: 243]\u001b[0m\n"
      ]
     },
     "metadata": {},
     "output_type": "display_data"
    },
    {
     "data": {
      "text/html": [
       "<pre style=\"white-space:pre;overflow-x:auto;line-height:normal;font-family:Menlo,'DejaVu Sans Mono',consolas,'Courier New',monospace\"><span style=\"color: #d4b702; text-decoration-color: #d4b702\">━━━━━━━━━━━━━━━━━━━━━━━━━━━━━━━━━━━━━━━━━━━━━━━━━━━━━ </span><span style=\"font-weight: bold\">Step </span><span style=\"color: #008080; text-decoration-color: #008080; font-weight: bold\">2</span><span style=\"color: #d4b702; text-decoration-color: #d4b702\"> ━━━━━━━━━━━━━━━━━━━━━━━━━━━━━━━━━━━━━━━━━━━━━━━━━━━━━━</span>\n",
       "</pre>\n"
      ],
      "text/plain": [
       "\u001b[38;2;212;183;2m━━━━━━━━━━━━━━━━━━━━━━━━━━━━━━━━━━━━━━━━━━━━━━━━━━━━━ \u001b[0m\u001b[1mStep \u001b[0m\u001b[1;36m2\u001b[0m\u001b[38;2;212;183;2m ━━━━━━━━━━━━━━━━━━━━━━━━━━━━━━━━━━━━━━━━━━━━━━━━━━━━━━\u001b[0m\n"
      ]
     },
     "metadata": {},
     "output_type": "display_data"
    },
    {
     "data": {
      "text/html": [
       "<pre style=\"white-space:pre;overflow-x:auto;line-height:normal;font-family:Menlo,'DejaVu Sans Mono',consolas,'Courier New',monospace\"><span style=\"color: #800000; text-decoration-color: #800000; font-weight: bold\">Error in code parsing:</span>\n",
       "<span style=\"color: #800000; text-decoration-color: #800000; font-weight: bold\">Your code snippet is invalid, because the regex pattern ```(?:py|python)?\\n(.*?)\\n``` was not found in it.</span>\n",
       "<span style=\"color: #800000; text-decoration-color: #800000; font-weight: bold\">Here is your code snippet:</span>\n",
       "<span style=\"color: #800000; text-decoration-color: #800000; font-weight: bold\">Lo siento, pero parece que no puedo proporcionar una respuesta directa a su pregunta sobre herramientas en oferta. </span>\n",
       "\n",
       "<span style=\"color: #800000; text-decoration-color: #800000; font-weight: bold\">Pregunta: ¿Cuál es el tipo de herramienta que está buscando?</span>\n",
       "<span style=\"color: #800000; text-decoration-color: #800000; font-weight: bold\">Make sure to include code with the correct pattern, for instance:</span>\n",
       "<span style=\"color: #800000; text-decoration-color: #800000; font-weight: bold\">Thoughts: Your thoughts</span>\n",
       "<span style=\"color: #800000; text-decoration-color: #800000; font-weight: bold\">Code:</span>\n",
       "<span style=\"color: #800000; text-decoration-color: #800000; font-weight: bold\">```py</span>\n",
       "<span style=\"color: #800000; text-decoration-color: #800000; font-weight: bold\"># Your python code here</span>\n",
       "<span style=\"color: #800000; text-decoration-color: #800000; font-weight: bold\">```&lt;end_code&gt;</span>\n",
       "<span style=\"color: #800000; text-decoration-color: #800000; font-weight: bold\">Make sure to provide correct code blobs.</span>\n",
       "</pre>\n"
      ],
      "text/plain": [
       "\u001b[1;31mError in code parsing:\u001b[0m\n",
       "\u001b[1;31mYour code snippet is invalid, because the regex pattern ```\u001b[0m\u001b[1;31m(\u001b[0m\u001b[1;31m?:py|python\u001b[0m\u001b[1;31m)\u001b[0m\u001b[1;31m?\\\u001b[0m\u001b[1;31mn\u001b[0m\u001b[1;31m(\u001b[0m\u001b[1;31m.*?\u001b[0m\u001b[1;31m)\u001b[0m\u001b[1;31m\\n``` was not found in it.\u001b[0m\n",
       "\u001b[1;31mHere is your code snippet:\u001b[0m\n",
       "\u001b[1;31mLo siento, pero parece que no puedo proporcionar una respuesta directa a su pregunta sobre herramientas en oferta. \u001b[0m\n",
       "\n",
       "\u001b[1;31mPregunta: ¿Cuál es el tipo de herramienta que está buscando?\u001b[0m\n",
       "\u001b[1;31mMake sure to include code with the correct pattern, for instance:\u001b[0m\n",
       "\u001b[1;31mThoughts: Your thoughts\u001b[0m\n",
       "\u001b[1;31mCode:\u001b[0m\n",
       "\u001b[1;31m```py\u001b[0m\n",
       "\u001b[1;31m# Your python code here\u001b[0m\n",
       "\u001b[1;31m```\u001b[0m\u001b[1;31m<\u001b[0m\u001b[1;31mend_code\u001b[0m\u001b[1;31m>\u001b[0m\n",
       "\u001b[1;31mMake sure to provide correct code blobs.\u001b[0m\n"
      ]
     },
     "metadata": {},
     "output_type": "display_data"
    },
    {
     "data": {
      "text/html": [
       "<pre style=\"white-space:pre;overflow-x:auto;line-height:normal;font-family:Menlo,'DejaVu Sans Mono',consolas,'Courier New',monospace\"><span style=\"color: #7f7f7f; text-decoration-color: #7f7f7f\">[Step 1: Duration 2.82 seconds| Input tokens: 1,524 | Output tokens: 286]</span>\n",
       "</pre>\n"
      ],
      "text/plain": [
       "\u001b[2m[Step 1: Duration 2.82 seconds| Input tokens: 1,524 | Output tokens: 286]\u001b[0m\n"
      ]
     },
     "metadata": {},
     "output_type": "display_data"
    },
    {
     "data": {
      "text/html": [
       "<pre style=\"white-space:pre;overflow-x:auto;line-height:normal;font-family:Menlo,'DejaVu Sans Mono',consolas,'Courier New',monospace\"><span style=\"color: #d4b702; text-decoration-color: #d4b702\">━━━━━━━━━━━━━━━━━━━━━━━━━━━━━━━━━━━━━━━━━━━━━━━━━━━━━ </span><span style=\"font-weight: bold\">Step </span><span style=\"color: #008080; text-decoration-color: #008080; font-weight: bold\">3</span><span style=\"color: #d4b702; text-decoration-color: #d4b702\"> ━━━━━━━━━━━━━━━━━━━━━━━━━━━━━━━━━━━━━━━━━━━━━━━━━━━━━━</span>\n",
       "</pre>\n"
      ],
      "text/plain": [
       "\u001b[38;2;212;183;2m━━━━━━━━━━━━━━━━━━━━━━━━━━━━━━━━━━━━━━━━━━━━━━━━━━━━━ \u001b[0m\u001b[1mStep \u001b[0m\u001b[1;36m3\u001b[0m\u001b[38;2;212;183;2m ━━━━━━━━━━━━━━━━━━━━━━━━━━━━━━━━━━━━━━━━━━━━━━━━━━━━━━\u001b[0m\n"
      ]
     },
     "metadata": {},
     "output_type": "display_data"
    },
    {
     "data": {
      "text/html": [
       "<pre style=\"white-space:pre;overflow-x:auto;line-height:normal;font-family:Menlo,'DejaVu Sans Mono',consolas,'Courier New',monospace\"> ─ <span style=\"font-weight: bold\">Executing parsed code:</span> ──────────────────────────────────────────────────────────────────────────────────────── \n",
       "  <span style=\"color: #f8f8f2; text-decoration-color: #f8f8f2; background-color: #272822\">web_search(</span><span style=\"color: #e6db74; text-decoration-color: #e6db74; background-color: #272822\">\"herramientas en oferta\"</span><span style=\"color: #f8f8f2; text-decoration-color: #f8f8f2; background-color: #272822\">)</span><span style=\"background-color: #272822\">                                                                           </span>  \n",
       " ───────────────────────────────────────────────────────────────────────────────────────────────────────────────── \n",
       "</pre>\n"
      ],
      "text/plain": [
       " ─ \u001b[1mExecuting parsed code:\u001b[0m ──────────────────────────────────────────────────────────────────────────────────────── \n",
       "  \u001b[38;2;248;248;242;48;2;39;40;34mweb_search\u001b[0m\u001b[38;2;248;248;242;48;2;39;40;34m(\u001b[0m\u001b[38;2;230;219;116;48;2;39;40;34m\"\u001b[0m\u001b[38;2;230;219;116;48;2;39;40;34mherramientas en oferta\u001b[0m\u001b[38;2;230;219;116;48;2;39;40;34m\"\u001b[0m\u001b[38;2;248;248;242;48;2;39;40;34m)\u001b[0m\u001b[48;2;39;40;34m                                                                           \u001b[0m  \n",
       " ───────────────────────────────────────────────────────────────────────────────────────────────────────────────── \n"
      ]
     },
     "metadata": {},
     "output_type": "display_data"
    },
    {
     "data": {
      "text/html": [
       "<pre style=\"white-space:pre;overflow-x:auto;line-height:normal;font-family:Menlo,'DejaVu Sans Mono',consolas,'Courier New',monospace\">Out: ## Search Results\n",
       "\n",
       "[Amazon.com.mx: Liquidación de Herramientas hasta con 50% de descuento \n",
       "...](https://www.amazon.com.mx/b?node=19707773011)\n",
       "Compre en línea para Liquidación de Herramientas hasta con 50% de descuento a partir de una gran selección en \n",
       "Herramientas y Mejoras del Hogar tienda. Saltar a. Contenido principal Métodos abreviados de teclado Buscar. alt + \n",
       "/ Carrito. ... Liquidación de Herramientas hasta con 50% de descuento Almacenamiento y Organización del Hogar;\n",
       "\n",
       "[Herramientas Ofertas - MercadoLibre](https://listado.mercadolibre.com.mx/herramientas-ofertas)\n",
       "Envíos Gratis en el día Compre Herramientas Ofertas en cuotas sin interés! Conozca nuestras increíbles ofertas y \n",
       "promociones en millones de productos.\n",
       "\n",
       "[Hot Sale Herramientas - The Home Depot México](https://www.homedepot.com.mx/b/hot-sale-herramientas-promociones)\n",
       "Compra en línea, envíos gratis, promociones, meses sin intereses. Los mejores precios de herramientas eléctricas y \n",
       "manuales te esperan en Hot Sale 2024 de marcas como Husky, Ryobi, Milwaukee, DeWalt.\n",
       "\n",
       "[Herramientas en Mercado Libre Mexico](https://www.mercadolibre.com.mx/c/herramientas)\n",
       "Encontrá lo que buscás en Herramientas y Construcción. Todo lo que necesitas lo conseguís en un solo lugar, en \n",
       "Mercado Libre. ... OFERTA DEL DÍA. $ 1,837. $ 1,029. 44 % OFF. Envío gratis . Nivel Láser Autonivelante 360° 16 \n",
       "Líneas Verde Con Trípode. OFERTA DEL DÍA. $ 1,837. $ 753 50. 58 % OFF.\n",
       "\n",
       "[Tienda de Herramientas Eléctricas y Manuales de \n",
       "Amazon](https://www.amazon.com/-/es/Herramientas-Manuales-Electricas/b?node=328182011)\n",
       "Compra Herramientas y Mejoras del Hogar en línea entre una gran selección en Hand Tools, Power Tool Parts &amp; \n",
       "Accessories, Power Tools, Tool Organizers y más con precios bajos todos los días. ... Explora nuestra oferta \n",
       "completa de martillos, alicates, llaves, cuchillos multiusos y otras herramientas manuales diseñadas para un \n",
       "control máximo ...\n",
       "\n",
       "[Ofertas Outlet en Herramientas | Mejores Precios【Grandes descuentos \n",
       "...](https://suministrointec.com/9001-ofertas-outlet-herramientas)\n",
       "Comprar herramientas en oferta online en nuestro catálogo . Un amplio stock de herramientas en oferta le espera ya \n",
       "en nuestro catálogo. Encontrará algunas de las mejores herramientas por debajo de su precio habitual para \n",
       "diferentes sectores industriales o incluso podrá proveerse de herramientas para el uso doméstico. Si tiene alguna \n",
       "...\n",
       "\n",
       "[Herramientas - The Home Depot México](https://www.homedepot.com.mx/b/herramientas)\n",
       "Lo mejor en Herramientas. RYOBI COMBO DE TALADRO/DESTORNILLADOR Y DESTORNILLADOR DE IMPACTO 18 VOLTS RYOBI. 4.6 \n",
       "(1824) SKU 142362 ... Compra en línea, envíos gratis, promociones, meses sin intereses. Herramientas ...\n",
       "\n",
       "[Ofertas y promociones de Herramientas ⇒ febrero 2025 - \n",
       "Promodescuentos](https://www.promodescuentos.com/grupo/herramientas)\n",
       "Ofertas de Herramientas ¡Promociones, descuentos y ofertas para ahorrar en la compa de Herramientas! Ofertas de \n",
       "Herramientas ¡Promociones, descuentos y ofertas para ahorrar en la compa de Herramientas! ... Hidrolavadora \n",
       "greenwork en oferta, yo la tengo y la verdad buena presion, electrica, y facil de manejar, no me tardo en lavar el \n",
       "carro y ...\n",
       "\n",
       "[Ofertas De Herramientas Buen Fin | Hasta 40% de descuento](https://www.sears.com.mx/c/buen-fin/herramientas/)\n",
       "Las principales ferreterías optimizan sus estrategias de marketing digital durante el Buen Fin al usar campañas \n",
       "publicitarias pagadas en redes sociales y motores de búsqueda. Además, email marketing personalizado con ofertas \n",
       "exclusivas atrae a clientes frecuentes. Promueven descuentos atractivos, como herramientas con 60% de descuento, y \n",
       "envíos gratuitos para compras superiores a $1,500 MXN.\n",
       "\n",
       "[Herramientas En Oferta - MercadoLibre](https://listado.mercadolibre.com.mx/herramientas-en-oferta)\n",
       "Envíos Gratis en el día Compre Herramientas En Oferta en cuotas sin interés! Conozca nuestras increíbles ofertas y \n",
       "promociones en millones de productos. Saltar al contenido Comentar sobre accesibilidad Mercado Libre México - Donde\n",
       "comprar y vender de todo. Ingresa lo que quieras encontrar.\n",
       "</pre>\n"
      ],
      "text/plain": [
       "Out: ## Search Results\n",
       "\n",
       "[Amazon.com.mx: Liquidación de Herramientas hasta con 50% de descuento \n",
       "...](https://www.amazon.com.mx/b?node=19707773011)\n",
       "Compre en línea para Liquidación de Herramientas hasta con 50% de descuento a partir de una gran selección en \n",
       "Herramientas y Mejoras del Hogar tienda. Saltar a. Contenido principal Métodos abreviados de teclado Buscar. alt + \n",
       "/ Carrito. ... Liquidación de Herramientas hasta con 50% de descuento Almacenamiento y Organización del Hogar;\n",
       "\n",
       "[Herramientas Ofertas - MercadoLibre](https://listado.mercadolibre.com.mx/herramientas-ofertas)\n",
       "Envíos Gratis en el día Compre Herramientas Ofertas en cuotas sin interés! Conozca nuestras increíbles ofertas y \n",
       "promociones en millones de productos.\n",
       "\n",
       "[Hot Sale Herramientas - The Home Depot México](https://www.homedepot.com.mx/b/hot-sale-herramientas-promociones)\n",
       "Compra en línea, envíos gratis, promociones, meses sin intereses. Los mejores precios de herramientas eléctricas y \n",
       "manuales te esperan en Hot Sale 2024 de marcas como Husky, Ryobi, Milwaukee, DeWalt.\n",
       "\n",
       "[Herramientas en Mercado Libre Mexico](https://www.mercadolibre.com.mx/c/herramientas)\n",
       "Encontrá lo que buscás en Herramientas y Construcción. Todo lo que necesitas lo conseguís en un solo lugar, en \n",
       "Mercado Libre. ... OFERTA DEL DÍA. $ 1,837. $ 1,029. 44 % OFF. Envío gratis . Nivel Láser Autonivelante 360° 16 \n",
       "Líneas Verde Con Trípode. OFERTA DEL DÍA. $ 1,837. $ 753 50. 58 % OFF.\n",
       "\n",
       "[Tienda de Herramientas Eléctricas y Manuales de \n",
       "Amazon](https://www.amazon.com/-/es/Herramientas-Manuales-Electricas/b?node=328182011)\n",
       "Compra Herramientas y Mejoras del Hogar en línea entre una gran selección en Hand Tools, Power Tool Parts & \n",
       "Accessories, Power Tools, Tool Organizers y más con precios bajos todos los días. ... Explora nuestra oferta \n",
       "completa de martillos, alicates, llaves, cuchillos multiusos y otras herramientas manuales diseñadas para un \n",
       "control máximo ...\n",
       "\n",
       "[Ofertas Outlet en Herramientas | Mejores Precios【Grandes descuentos \n",
       "...](https://suministrointec.com/9001-ofertas-outlet-herramientas)\n",
       "Comprar herramientas en oferta online en nuestro catálogo . Un amplio stock de herramientas en oferta le espera ya \n",
       "en nuestro catálogo. Encontrará algunas de las mejores herramientas por debajo de su precio habitual para \n",
       "diferentes sectores industriales o incluso podrá proveerse de herramientas para el uso doméstico. Si tiene alguna \n",
       "...\n",
       "\n",
       "[Herramientas - The Home Depot México](https://www.homedepot.com.mx/b/herramientas)\n",
       "Lo mejor en Herramientas. RYOBI COMBO DE TALADRO/DESTORNILLADOR Y DESTORNILLADOR DE IMPACTO 18 VOLTS RYOBI. 4.6 \n",
       "(1824) SKU 142362 ... Compra en línea, envíos gratis, promociones, meses sin intereses. Herramientas ...\n",
       "\n",
       "[Ofertas y promociones de Herramientas ⇒ febrero 2025 - \n",
       "Promodescuentos](https://www.promodescuentos.com/grupo/herramientas)\n",
       "Ofertas de Herramientas ¡Promociones, descuentos y ofertas para ahorrar en la compa de Herramientas! Ofertas de \n",
       "Herramientas ¡Promociones, descuentos y ofertas para ahorrar en la compa de Herramientas! ... Hidrolavadora \n",
       "greenwork en oferta, yo la tengo y la verdad buena presion, electrica, y facil de manejar, no me tardo en lavar el \n",
       "carro y ...\n",
       "\n",
       "[Ofertas De Herramientas Buen Fin | Hasta 40% de descuento](https://www.sears.com.mx/c/buen-fin/herramientas/)\n",
       "Las principales ferreterías optimizan sus estrategias de marketing digital durante el Buen Fin al usar campañas \n",
       "publicitarias pagadas en redes sociales y motores de búsqueda. Además, email marketing personalizado con ofertas \n",
       "exclusivas atrae a clientes frecuentes. Promueven descuentos atractivos, como herramientas con 60% de descuento, y \n",
       "envíos gratuitos para compras superiores a $1,500 MXN.\n",
       "\n",
       "[Herramientas En Oferta - MercadoLibre](https://listado.mercadolibre.com.mx/herramientas-en-oferta)\n",
       "Envíos Gratis en el día Compre Herramientas En Oferta en cuotas sin interés! Conozca nuestras increíbles ofertas y \n",
       "promociones en millones de productos. Saltar al contenido Comentar sobre accesibilidad Mercado Libre México - Donde\n",
       "comprar y vender de todo. Ingresa lo que quieras encontrar.\n"
      ]
     },
     "metadata": {},
     "output_type": "display_data"
    },
    {
     "data": {
      "text/html": [
       "<pre style=\"white-space:pre;overflow-x:auto;line-height:normal;font-family:Menlo,'DejaVu Sans Mono',consolas,'Courier New',monospace\"><span style=\"color: #7f7f7f; text-decoration-color: #7f7f7f\">[Step 2: Duration 3.83 seconds| Input tokens: 2,795 | Output tokens: 319]</span>\n",
       "</pre>\n"
      ],
      "text/plain": [
       "\u001b[2m[Step 2: Duration 3.83 seconds| Input tokens: 2,795 | Output tokens: 319]\u001b[0m\n"
      ]
     },
     "metadata": {},
     "output_type": "display_data"
    },
    {
     "data": {
      "text/html": [
       "<pre style=\"white-space:pre;overflow-x:auto;line-height:normal;font-family:Menlo,'DejaVu Sans Mono',consolas,'Courier New',monospace\"><span style=\"color: #d4b702; text-decoration-color: #d4b702\">━━━━━━━━━━━━━━━━━━━━━━━━━━━━━━━━━━━━━━━━━━━━━━━━━━━━━ </span><span style=\"font-weight: bold\">Step </span><span style=\"color: #008080; text-decoration-color: #008080; font-weight: bold\">4</span><span style=\"color: #d4b702; text-decoration-color: #d4b702\"> ━━━━━━━━━━━━━━━━━━━━━━━━━━━━━━━━━━━━━━━━━━━━━━━━━━━━━━</span>\n",
       "</pre>\n"
      ],
      "text/plain": [
       "\u001b[38;2;212;183;2m━━━━━━━━━━━━━━━━━━━━━━━━━━━━━━━━━━━━━━━━━━━━━━━━━━━━━ \u001b[0m\u001b[1mStep \u001b[0m\u001b[1;36m4\u001b[0m\u001b[38;2;212;183;2m ━━━━━━━━━━━━━━━━━━━━━━━━━━━━━━━━━━━━━━━━━━━━━━━━━━━━━━\u001b[0m\n"
      ]
     },
     "metadata": {},
     "output_type": "display_data"
    },
    {
     "data": {
      "text/html": [
       "<pre style=\"white-space:pre;overflow-x:auto;line-height:normal;font-family:Menlo,'DejaVu Sans Mono',consolas,'Courier New',monospace\"><span style=\"color: #800000; text-decoration-color: #800000; font-weight: bold\">Error in code parsing:</span>\n",
       "<span style=\"color: #800000; text-decoration-color: #800000; font-weight: bold\">Your code snippet is invalid, because the regex pattern ```(?:py|python)?\\n(.*?)\\n``` was not found in it.</span>\n",
       "<span style=\"color: #800000; text-decoration-color: #800000; font-weight: bold\">Here is your code snippet:</span>\n",
       "<span style=\"color: #800000; text-decoration-color: #800000; font-weight: bold\">Parece que hay varias opciones para encontrar herramientas en oferta. </span>\n",
       "\n",
       "<span style=\"color: #800000; text-decoration-color: #800000; font-weight: bold\">1</span><span style=\"color: #800000; text-decoration-color: #800000; font-weight: bold\">. **Amazon.com.mx**: Ofrece una liquidación de herramientas con hasta </span><span style=\"color: #800000; text-decoration-color: #800000; font-weight: bold\">50</span><span style=\"color: #800000; text-decoration-color: #800000; font-weight: bold\">% de descuento.</span>\n",
       "<span style=\"color: #800000; text-decoration-color: #800000; font-weight: bold\">2</span><span style=\"color: #800000; text-decoration-color: #800000; font-weight: bold\">. **MercadoLibre**: Tiene una sección de herramientas en oferta con envíos gratis y pagos en cuotas sin interés.</span>\n",
       "<span style=\"color: #800000; text-decoration-color: #800000; font-weight: bold\">3</span><span style=\"color: #800000; text-decoration-color: #800000; font-weight: bold\">. **The Home Depot México**: Ofrece una venta de herramientas con descuentos y promociones, incluyendo una sección</span>\n",
       "<span style=\"color: #800000; text-decoration-color: #800000; font-weight: bold\">de </span><span style=\"color: #800000; text-decoration-color: #800000; font-weight: bold\">\"Hot Sale\"</span><span style=\"color: #800000; text-decoration-color: #800000; font-weight: bold\"> con herramientas a precios reducidos.</span>\n",
       "<span style=\"color: #800000; text-decoration-color: #800000; font-weight: bold\">4</span><span style=\"color: #800000; text-decoration-color: #800000; font-weight: bold\">. **Mercado Libre Mexico**: Encontrará herramientas en oferta con descuentos de hasta </span><span style=\"color: #800000; text-decoration-color: #800000; font-weight: bold\">58</span><span style=\"color: #800000; text-decoration-color: #800000; font-weight: bold\">% y envíos gratis.</span>\n",
       "<span style=\"color: #800000; text-decoration-color: #800000; font-weight: bold\">5</span><span style=\"color: #800000; text-decoration-color: #800000; font-weight: bold\">. **Suministrointec**: Ofrece herramientas en oferta online con grandes descuentos y un amplio stock para </span>\n",
       "<span style=\"color: #800000; text-decoration-color: #800000; font-weight: bold\">diferentes sectores industriales o uso doméstico.</span>\n",
       "\n",
       "<span style=\"color: #800000; text-decoration-color: #800000; font-weight: bold\">Final_answer: Puedes encontrar herramientas en oferta en línea en sitios como Amazon.com.mx, MercadoLibre, The Home</span>\n",
       "<span style=\"color: #800000; text-decoration-color: #800000; font-weight: bold\">Depot México, Mercado Libre Mexico y Suministrointec, con descuentos de hasta </span><span style=\"color: #800000; text-decoration-color: #800000; font-weight: bold\">58</span><span style=\"color: #800000; text-decoration-color: #800000; font-weight: bold\">% y envíos gratis.</span>\n",
       "<span style=\"color: #800000; text-decoration-color: #800000; font-weight: bold\">Make sure to include code with the correct pattern, for instance:</span>\n",
       "<span style=\"color: #800000; text-decoration-color: #800000; font-weight: bold\">Thoughts: Your thoughts</span>\n",
       "<span style=\"color: #800000; text-decoration-color: #800000; font-weight: bold\">Code:</span>\n",
       "<span style=\"color: #800000; text-decoration-color: #800000; font-weight: bold\">```py</span>\n",
       "<span style=\"color: #800000; text-decoration-color: #800000; font-weight: bold\"># Your python code here</span>\n",
       "<span style=\"color: #800000; text-decoration-color: #800000; font-weight: bold\">```&lt;end_code&gt;</span>\n",
       "<span style=\"color: #800000; text-decoration-color: #800000; font-weight: bold\">Make sure to provide correct code blobs.</span>\n",
       "</pre>\n"
      ],
      "text/plain": [
       "\u001b[1;31mError in code parsing:\u001b[0m\n",
       "\u001b[1;31mYour code snippet is invalid, because the regex pattern ```\u001b[0m\u001b[1;31m(\u001b[0m\u001b[1;31m?:py|python\u001b[0m\u001b[1;31m)\u001b[0m\u001b[1;31m?\\\u001b[0m\u001b[1;31mn\u001b[0m\u001b[1;31m(\u001b[0m\u001b[1;31m.*?\u001b[0m\u001b[1;31m)\u001b[0m\u001b[1;31m\\n``` was not found in it.\u001b[0m\n",
       "\u001b[1;31mHere is your code snippet:\u001b[0m\n",
       "\u001b[1;31mParece que hay varias opciones para encontrar herramientas en oferta. \u001b[0m\n",
       "\n",
       "\u001b[1;31m1\u001b[0m\u001b[1;31m. **Amazon.com.mx**: Ofrece una liquidación de herramientas con hasta \u001b[0m\u001b[1;31m50\u001b[0m\u001b[1;31m% de descuento.\u001b[0m\n",
       "\u001b[1;31m2\u001b[0m\u001b[1;31m. **MercadoLibre**: Tiene una sección de herramientas en oferta con envíos gratis y pagos en cuotas sin interés.\u001b[0m\n",
       "\u001b[1;31m3\u001b[0m\u001b[1;31m. **The Home Depot México**: Ofrece una venta de herramientas con descuentos y promociones, incluyendo una sección\u001b[0m\n",
       "\u001b[1;31mde \u001b[0m\u001b[1;31m\"Hot Sale\"\u001b[0m\u001b[1;31m con herramientas a precios reducidos.\u001b[0m\n",
       "\u001b[1;31m4\u001b[0m\u001b[1;31m. **Mercado Libre Mexico**: Encontrará herramientas en oferta con descuentos de hasta \u001b[0m\u001b[1;31m58\u001b[0m\u001b[1;31m% y envíos gratis.\u001b[0m\n",
       "\u001b[1;31m5\u001b[0m\u001b[1;31m. **Suministrointec**: Ofrece herramientas en oferta online con grandes descuentos y un amplio stock para \u001b[0m\n",
       "\u001b[1;31mdiferentes sectores industriales o uso doméstico.\u001b[0m\n",
       "\n",
       "\u001b[1;31mFinal_answer: Puedes encontrar herramientas en oferta en línea en sitios como Amazon.com.mx, MercadoLibre, The Home\u001b[0m\n",
       "\u001b[1;31mDepot México, Mercado Libre Mexico y Suministrointec, con descuentos de hasta \u001b[0m\u001b[1;31m58\u001b[0m\u001b[1;31m% y envíos gratis.\u001b[0m\n",
       "\u001b[1;31mMake sure to include code with the correct pattern, for instance:\u001b[0m\n",
       "\u001b[1;31mThoughts: Your thoughts\u001b[0m\n",
       "\u001b[1;31mCode:\u001b[0m\n",
       "\u001b[1;31m```py\u001b[0m\n",
       "\u001b[1;31m# Your python code here\u001b[0m\n",
       "\u001b[1;31m```\u001b[0m\u001b[1;31m<\u001b[0m\u001b[1;31mend_code\u001b[0m\u001b[1;31m>\u001b[0m\n",
       "\u001b[1;31mMake sure to provide correct code blobs.\u001b[0m\n"
      ]
     },
     "metadata": {},
     "output_type": "display_data"
    },
    {
     "data": {
      "text/html": [
       "<pre style=\"white-space:pre;overflow-x:auto;line-height:normal;font-family:Menlo,'DejaVu Sans Mono',consolas,'Courier New',monospace\"><span style=\"color: #7f7f7f; text-decoration-color: #7f7f7f\">[Step 3: Duration 19.21 seconds| Input tokens: 5,308 | Output tokens: 560]</span>\n",
       "</pre>\n"
      ],
      "text/plain": [
       "\u001b[2m[Step 3: Duration 19.21 seconds| Input tokens: 5,308 | Output tokens: 560]\u001b[0m\n"
      ]
     },
     "metadata": {},
     "output_type": "display_data"
    },
    {
     "data": {
      "text/html": [
       "<pre style=\"white-space:pre;overflow-x:auto;line-height:normal;font-family:Menlo,'DejaVu Sans Mono',consolas,'Courier New',monospace\"><span style=\"color: #d4b702; text-decoration-color: #d4b702\">━━━━━━━━━━━━━━━━━━━━━━━━━━━━━━━━━━━━━━━━━━━━━━━━━━━━━ </span><span style=\"font-weight: bold\">Step </span><span style=\"color: #008080; text-decoration-color: #008080; font-weight: bold\">5</span><span style=\"color: #d4b702; text-decoration-color: #d4b702\"> ━━━━━━━━━━━━━━━━━━━━━━━━━━━━━━━━━━━━━━━━━━━━━━━━━━━━━━</span>\n",
       "</pre>\n"
      ],
      "text/plain": [
       "\u001b[38;2;212;183;2m━━━━━━━━━━━━━━━━━━━━━━━━━━━━━━━━━━━━━━━━━━━━━━━━━━━━━ \u001b[0m\u001b[1mStep \u001b[0m\u001b[1;36m5\u001b[0m\u001b[38;2;212;183;2m ━━━━━━━━━━━━━━━━━━━━━━━━━━━━━━━━━━━━━━━━━━━━━━━━━━━━━━\u001b[0m\n"
      ]
     },
     "metadata": {},
     "output_type": "display_data"
    },
    {
     "data": {
      "text/html": [
       "<pre style=\"white-space:pre;overflow-x:auto;line-height:normal;font-family:Menlo,'DejaVu Sans Mono',consolas,'Courier New',monospace\"> ─ <span style=\"font-weight: bold\">Executing parsed code:</span> ──────────────────────────────────────────────────────────────────────────────────────── \n",
       "  <span style=\"color: #f8f8f2; text-decoration-color: #f8f8f2; background-color: #272822\">final_answer(</span><span style=\"color: #e6db74; text-decoration-color: #e6db74; background-color: #272822\">\"Puedes encontrar herramientas en oferta en línea en sitios como Amazon.com.mx, MercadoLibre, The </span>  \n",
       "  <span style=\"color: #e6db74; text-decoration-color: #e6db74; background-color: #272822\">Home Depot México, Mercado Libre Mexico y Suministrointec, con descuentos de hasta 58% y envíos gratis.\"</span><span style=\"color: #f8f8f2; text-decoration-color: #f8f8f2; background-color: #272822\">)</span><span style=\"background-color: #272822\">      </span>  \n",
       " ───────────────────────────────────────────────────────────────────────────────────────────────────────────────── \n",
       "</pre>\n"
      ],
      "text/plain": [
       " ─ \u001b[1mExecuting parsed code:\u001b[0m ──────────────────────────────────────────────────────────────────────────────────────── \n",
       "  \u001b[38;2;248;248;242;48;2;39;40;34mfinal_answer\u001b[0m\u001b[38;2;248;248;242;48;2;39;40;34m(\u001b[0m\u001b[38;2;230;219;116;48;2;39;40;34m\"\u001b[0m\u001b[38;2;230;219;116;48;2;39;40;34mPuedes encontrar herramientas en oferta en línea en sitios como Amazon.com.mx, MercadoLibre, The \u001b[0m  \n",
       "  \u001b[38;2;230;219;116;48;2;39;40;34mHome Depot México, Mercado Libre Mexico y Suministrointec, con descuentos de hasta 58\u001b[0m\u001b[38;2;230;219;116;48;2;39;40;34m%\u001b[0m\u001b[38;2;230;219;116;48;2;39;40;34m y envíos gratis.\u001b[0m\u001b[38;2;230;219;116;48;2;39;40;34m\"\u001b[0m\u001b[38;2;248;248;242;48;2;39;40;34m)\u001b[0m\u001b[48;2;39;40;34m      \u001b[0m  \n",
       " ───────────────────────────────────────────────────────────────────────────────────────────────────────────────── \n"
      ]
     },
     "metadata": {},
     "output_type": "display_data"
    },
    {
     "data": {
      "text/html": [
       "<pre style=\"white-space:pre;overflow-x:auto;line-height:normal;font-family:Menlo,'DejaVu Sans Mono',consolas,'Courier New',monospace\"><span style=\"color: #d4b702; text-decoration-color: #d4b702; font-weight: bold\">Out - Final answer: Puedes encontrar herramientas en oferta en línea en sitios como Amazon.com.mx, MercadoLibre, </span>\n",
       "<span style=\"color: #d4b702; text-decoration-color: #d4b702; font-weight: bold\">The Home Depot México, Mercado Libre Mexico y Suministrointec, con descuentos de hasta 58% y envíos gratis.</span>\n",
       "</pre>\n"
      ],
      "text/plain": [
       "\u001b[1;38;2;212;183;2mOut - Final answer: Puedes encontrar herramientas en oferta en línea en sitios como Amazon.com.mx, MercadoLibre, \u001b[0m\n",
       "\u001b[1;38;2;212;183;2mThe Home Depot México, Mercado Libre Mexico y Suministrointec, con descuentos de hasta 58% y envíos gratis.\u001b[0m\n"
      ]
     },
     "metadata": {},
     "output_type": "display_data"
    },
    {
     "data": {
      "text/html": [
       "<pre style=\"white-space:pre;overflow-x:auto;line-height:normal;font-family:Menlo,'DejaVu Sans Mono',consolas,'Courier New',monospace\"><span style=\"color: #7f7f7f; text-decoration-color: #7f7f7f\">[Step 4: Duration 4.99 seconds| Input tokens: 8,423 | Output tokens: 638]</span>\n",
       "</pre>\n"
      ],
      "text/plain": [
       "\u001b[2m[Step 4: Duration 4.99 seconds| Input tokens: 8,423 | Output tokens: 638]\u001b[0m\n"
      ]
     },
     "metadata": {},
     "output_type": "display_data"
    },
    {
     "name": "stdout",
     "output_type": "stream",
     "text": [
      "Puedes encontrar herramientas en oferta en línea en sitios como Amazon.com.mx, MercadoLibre, The Home Depot México, Mercado Libre Mexico y Suministrointec, con descuentos de hasta 58% y envíos gratis.\n"
     ]
    }
   ],
   "source": [
    "result = agent.run(\n",
    "    \"que herramientas estan de oferta?\",\n",
    ")\n",
    "\n",
    "print(result)"
   ]
  },
  {
   "cell_type": "code",
   "execution_count": 8,
   "metadata": {},
   "outputs": [
    {
     "data": {
      "text/html": [
       "<pre style=\"white-space:pre;overflow-x:auto;line-height:normal;font-family:Menlo,'DejaVu Sans Mono',consolas,'Courier New',monospace\"><span style=\"color: #d4b702; text-decoration-color: #d4b702\">╭──────────────────────────────────────────────────── </span><span style=\"color: #d4b702; text-decoration-color: #d4b702; font-weight: bold\">New run</span><span style=\"color: #d4b702; text-decoration-color: #d4b702\"> ────────────────────────────────────────────────────╮</span>\n",
       "<span style=\"color: #d4b702; text-decoration-color: #d4b702\">│</span>                                                                                                                 <span style=\"color: #d4b702; text-decoration-color: #d4b702\">│</span>\n",
       "<span style=\"color: #d4b702; text-decoration-color: #d4b702\">│</span> <span style=\"font-weight: bold\">¿Qué material necesito y cuánta cantidad para pintar puertas de mi casa?</span>                                        <span style=\"color: #d4b702; text-decoration-color: #d4b702\">│</span>\n",
       "<span style=\"color: #d4b702; text-decoration-color: #d4b702\">│</span>                                                                                                                 <span style=\"color: #d4b702; text-decoration-color: #d4b702\">│</span>\n",
       "<span style=\"color: #d4b702; text-decoration-color: #d4b702\">╰─ HfApiModel - meta-llama/Llama-3.3-70B-Instruct ────────────────────────────────────────────────────────────────╯</span>\n",
       "</pre>\n"
      ],
      "text/plain": [
       "\u001b[38;2;212;183;2m╭─\u001b[0m\u001b[38;2;212;183;2m───────────────────────────────────────────────────\u001b[0m\u001b[38;2;212;183;2m \u001b[0m\u001b[1;38;2;212;183;2mNew run\u001b[0m\u001b[38;2;212;183;2m \u001b[0m\u001b[38;2;212;183;2m───────────────────────────────────────────────────\u001b[0m\u001b[38;2;212;183;2m─╮\u001b[0m\n",
       "\u001b[38;2;212;183;2m│\u001b[0m                                                                                                                 \u001b[38;2;212;183;2m│\u001b[0m\n",
       "\u001b[38;2;212;183;2m│\u001b[0m \u001b[1m¿Qué material necesito y cuánta cantidad para pintar puertas de mi casa?\u001b[0m                                        \u001b[38;2;212;183;2m│\u001b[0m\n",
       "\u001b[38;2;212;183;2m│\u001b[0m                                                                                                                 \u001b[38;2;212;183;2m│\u001b[0m\n",
       "\u001b[38;2;212;183;2m╰─\u001b[0m\u001b[38;2;212;183;2m HfApiModel - meta-llama/Llama-3.3-70B-Instruct \u001b[0m\u001b[38;2;212;183;2m───────────────────────────────────────────────────────────────\u001b[0m\u001b[38;2;212;183;2m─╯\u001b[0m\n"
      ]
     },
     "metadata": {},
     "output_type": "display_data"
    },
    {
     "data": {
      "text/html": [
       "<pre style=\"white-space:pre;overflow-x:auto;line-height:normal;font-family:Menlo,'DejaVu Sans Mono',consolas,'Courier New',monospace\"><span style=\"color: #d4b702; text-decoration-color: #d4b702\">━━━━━━━━━━━━━━━━━━━━━━━━━━━━━━━━━━━━━━━━━━━━━━━━━━━━━ </span><span style=\"font-weight: bold\">Step </span><span style=\"color: #008080; text-decoration-color: #008080; font-weight: bold\">1</span><span style=\"color: #d4b702; text-decoration-color: #d4b702\"> ━━━━━━━━━━━━━━━━━━━━━━━━━━━━━━━━━━━━━━━━━━━━━━━━━━━━━━</span>\n",
       "</pre>\n"
      ],
      "text/plain": [
       "\u001b[38;2;212;183;2m━━━━━━━━━━━━━━━━━━━━━━━━━━━━━━━━━━━━━━━━━━━━━━━━━━━━━ \u001b[0m\u001b[1mStep \u001b[0m\u001b[1;36m1\u001b[0m\u001b[38;2;212;183;2m ━━━━━━━━━━━━━━━━━━━━━━━━━━━━━━━━━━━━━━━━━━━━━━━━━━━━━━\u001b[0m\n"
      ]
     },
     "metadata": {},
     "output_type": "display_data"
    },
    {
     "data": {
      "text/html": [
       "<pre style=\"white-space:pre;overflow-x:auto;line-height:normal;font-family:Menlo,'DejaVu Sans Mono',consolas,'Courier New',monospace\"><span style=\"color: #800000; text-decoration-color: #800000; font-weight: bold\">Error in code parsing:</span>\n",
       "<span style=\"color: #800000; text-decoration-color: #800000; font-weight: bold\">Your code snippet is invalid, because the regex pattern ```(?:py|python)?\\n(.*?)\\n``` was not found in it.</span>\n",
       "<span style=\"color: #800000; text-decoration-color: #800000; font-weight: bold\">Here is your code snippet:</span>\n",
       "<span style=\"color: #800000; text-decoration-color: #800000; font-weight: bold\">Para determinar los materiales necesarios y la cantidad para pintar las puertas de tu casa, necesito saber algunos </span>\n",
       "<span style=\"color: #800000; text-decoration-color: #800000; font-weight: bold\">detalles más. </span>\n",
       "\n",
       "<span style=\"color: #800000; text-decoration-color: #800000; font-weight: bold\">pregunta(</span><span style=\"color: #800000; text-decoration-color: #800000; font-weight: bold\">\"¿Cuántas puertas vas a pintar y qué tamaño tienen aproximadamente?\"</span><span style=\"color: #800000; text-decoration-color: #800000; font-weight: bold\">)</span>\n",
       "<span style=\"color: #800000; text-decoration-color: #800000; font-weight: bold\">Make sure to include code with the correct pattern, for instance:</span>\n",
       "<span style=\"color: #800000; text-decoration-color: #800000; font-weight: bold\">Thoughts: Your thoughts</span>\n",
       "<span style=\"color: #800000; text-decoration-color: #800000; font-weight: bold\">Code:</span>\n",
       "<span style=\"color: #800000; text-decoration-color: #800000; font-weight: bold\">```py</span>\n",
       "<span style=\"color: #800000; text-decoration-color: #800000; font-weight: bold\"># Your python code here</span>\n",
       "<span style=\"color: #800000; text-decoration-color: #800000; font-weight: bold\">```&lt;end_code&gt;</span>\n",
       "<span style=\"color: #800000; text-decoration-color: #800000; font-weight: bold\">Make sure to provide correct code blobs.</span>\n",
       "</pre>\n"
      ],
      "text/plain": [
       "\u001b[1;31mError in code parsing:\u001b[0m\n",
       "\u001b[1;31mYour code snippet is invalid, because the regex pattern ```\u001b[0m\u001b[1;31m(\u001b[0m\u001b[1;31m?:py|python\u001b[0m\u001b[1;31m)\u001b[0m\u001b[1;31m?\\\u001b[0m\u001b[1;31mn\u001b[0m\u001b[1;31m(\u001b[0m\u001b[1;31m.*?\u001b[0m\u001b[1;31m)\u001b[0m\u001b[1;31m\\n``` was not found in it.\u001b[0m\n",
       "\u001b[1;31mHere is your code snippet:\u001b[0m\n",
       "\u001b[1;31mPara determinar los materiales necesarios y la cantidad para pintar las puertas de tu casa, necesito saber algunos \u001b[0m\n",
       "\u001b[1;31mdetalles más. \u001b[0m\n",
       "\n",
       "\u001b[1;31mpregunta\u001b[0m\u001b[1;31m(\u001b[0m\u001b[1;31m\"¿Cuántas puertas vas a pintar y qué tamaño tienen aproximadamente?\"\u001b[0m\u001b[1;31m)\u001b[0m\n",
       "\u001b[1;31mMake sure to include code with the correct pattern, for instance:\u001b[0m\n",
       "\u001b[1;31mThoughts: Your thoughts\u001b[0m\n",
       "\u001b[1;31mCode:\u001b[0m\n",
       "\u001b[1;31m```py\u001b[0m\n",
       "\u001b[1;31m# Your python code here\u001b[0m\n",
       "\u001b[1;31m```\u001b[0m\u001b[1;31m<\u001b[0m\u001b[1;31mend_code\u001b[0m\u001b[1;31m>\u001b[0m\n",
       "\u001b[1;31mMake sure to provide correct code blobs.\u001b[0m\n"
      ]
     },
     "metadata": {},
     "output_type": "display_data"
    },
    {
     "data": {
      "text/html": [
       "<pre style=\"white-space:pre;overflow-x:auto;line-height:normal;font-family:Menlo,'DejaVu Sans Mono',consolas,'Courier New',monospace\"><span style=\"color: #7f7f7f; text-decoration-color: #7f7f7f\">[Step 0: Duration 3.94 seconds| Input tokens: 470 | Output tokens: 51]</span>\n",
       "</pre>\n"
      ],
      "text/plain": [
       "\u001b[2m[Step 0: Duration 3.94 seconds| Input tokens: 470 | Output tokens: 51]\u001b[0m\n"
      ]
     },
     "metadata": {},
     "output_type": "display_data"
    },
    {
     "data": {
      "text/html": [
       "<pre style=\"white-space:pre;overflow-x:auto;line-height:normal;font-family:Menlo,'DejaVu Sans Mono',consolas,'Courier New',monospace\"><span style=\"color: #d4b702; text-decoration-color: #d4b702\">━━━━━━━━━━━━━━━━━━━━━━━━━━━━━━━━━━━━━━━━━━━━━━━━━━━━━ </span><span style=\"font-weight: bold\">Step </span><span style=\"color: #008080; text-decoration-color: #008080; font-weight: bold\">2</span><span style=\"color: #d4b702; text-decoration-color: #d4b702\"> ━━━━━━━━━━━━━━━━━━━━━━━━━━━━━━━━━━━━━━━━━━━━━━━━━━━━━━</span>\n",
       "</pre>\n"
      ],
      "text/plain": [
       "\u001b[38;2;212;183;2m━━━━━━━━━━━━━━━━━━━━━━━━━━━━━━━━━━━━━━━━━━━━━━━━━━━━━ \u001b[0m\u001b[1mStep \u001b[0m\u001b[1;36m2\u001b[0m\u001b[38;2;212;183;2m ━━━━━━━━━━━━━━━━━━━━━━━━━━━━━━━━━━━━━━━━━━━━━━━━━━━━━━\u001b[0m\n"
      ]
     },
     "metadata": {},
     "output_type": "display_data"
    },
    {
     "data": {
      "text/html": [
       "<pre style=\"white-space:pre;overflow-x:auto;line-height:normal;font-family:Menlo,'DejaVu Sans Mono',consolas,'Courier New',monospace\"> ─ <span style=\"font-weight: bold\">Executing parsed code:</span> ──────────────────────────────────────────────────────────────────────────────────────── \n",
       "  <span style=\"color: #f8f8f2; text-decoration-color: #f8f8f2; background-color: #272822\">pregunta(</span><span style=\"color: #e6db74; text-decoration-color: #e6db74; background-color: #272822\">\"¿Cuántas puertas vas a pintar y qué tamaño tienen aproximadamente?\"</span><span style=\"color: #f8f8f2; text-decoration-color: #f8f8f2; background-color: #272822\">)</span><span style=\"background-color: #272822\">                                 </span>  \n",
       " ───────────────────────────────────────────────────────────────────────────────────────────────────────────────── \n",
       "</pre>\n"
      ],
      "text/plain": [
       " ─ \u001b[1mExecuting parsed code:\u001b[0m ──────────────────────────────────────────────────────────────────────────────────────── \n",
       "  \u001b[38;2;248;248;242;48;2;39;40;34mpregunta\u001b[0m\u001b[38;2;248;248;242;48;2;39;40;34m(\u001b[0m\u001b[38;2;230;219;116;48;2;39;40;34m\"\u001b[0m\u001b[38;2;230;219;116;48;2;39;40;34m¿Cuántas puertas vas a pintar y qué tamaño tienen aproximadamente?\u001b[0m\u001b[38;2;230;219;116;48;2;39;40;34m\"\u001b[0m\u001b[38;2;248;248;242;48;2;39;40;34m)\u001b[0m\u001b[48;2;39;40;34m                                 \u001b[0m  \n",
       " ───────────────────────────────────────────────────────────────────────────────────────────────────────────────── \n"
      ]
     },
     "metadata": {},
     "output_type": "display_data"
    },
    {
     "data": {
      "text/html": [
       "<pre style=\"white-space:pre;overflow-x:auto;line-height:normal;font-family:Menlo,'DejaVu Sans Mono',consolas,'Courier New',monospace\">Out: 10 y 2x1\n",
       "</pre>\n"
      ],
      "text/plain": [
       "Out: 10 y 2x1\n"
      ]
     },
     "metadata": {},
     "output_type": "display_data"
    },
    {
     "data": {
      "text/html": [
       "<pre style=\"white-space:pre;overflow-x:auto;line-height:normal;font-family:Menlo,'DejaVu Sans Mono',consolas,'Courier New',monospace\"><span style=\"color: #7f7f7f; text-decoration-color: #7f7f7f\">[Step 1: Duration 14.03 seconds| Input tokens: 1,161 | Output tokens: 110]</span>\n",
       "</pre>\n"
      ],
      "text/plain": [
       "\u001b[2m[Step 1: Duration 14.03 seconds| Input tokens: 1,161 | Output tokens: 110]\u001b[0m\n"
      ]
     },
     "metadata": {},
     "output_type": "display_data"
    },
    {
     "data": {
      "text/html": [
       "<pre style=\"white-space:pre;overflow-x:auto;line-height:normal;font-family:Menlo,'DejaVu Sans Mono',consolas,'Courier New',monospace\"><span style=\"color: #d4b702; text-decoration-color: #d4b702\">━━━━━━━━━━━━━━━━━━━━━━━━━━━━━━━━━━━━━━━━━━━━━━━━━━━━━ </span><span style=\"font-weight: bold\">Step </span><span style=\"color: #008080; text-decoration-color: #008080; font-weight: bold\">3</span><span style=\"color: #d4b702; text-decoration-color: #d4b702\"> ━━━━━━━━━━━━━━━━━━━━━━━━━━━━━━━━━━━━━━━━━━━━━━━━━━━━━━</span>\n",
       "</pre>\n"
      ],
      "text/plain": [
       "\u001b[38;2;212;183;2m━━━━━━━━━━━━━━━━━━━━━━━━━━━━━━━━━━━━━━━━━━━━━━━━━━━━━ \u001b[0m\u001b[1mStep \u001b[0m\u001b[1;36m3\u001b[0m\u001b[38;2;212;183;2m ━━━━━━━━━━━━━━━━━━━━━━━━━━━━━━━━━━━━━━━━━━━━━━━━━━━━━━\u001b[0m\n"
      ]
     },
     "metadata": {},
     "output_type": "display_data"
    },
    {
     "data": {
      "text/html": [
       "<pre style=\"white-space:pre;overflow-x:auto;line-height:normal;font-family:Menlo,'DejaVu Sans Mono',consolas,'Courier New',monospace\"> ─ <span style=\"font-weight: bold\">Executing parsed code:</span> ──────────────────────────────────────────────────────────────────────────────────────── \n",
       "  <span style=\"color: #f8f8f2; text-decoration-color: #f8f8f2; background-color: #272822\">final_answer(</span><span style=\"color: #e6db74; text-decoration-color: #e6db74; background-color: #272822\">\"Para pintar 10 puertas de 2x1, necesitarás: </span><span style=\"color: #ae81ff; text-decoration-color: #ae81ff; background-color: #272822\">\\n</span><span style=\"color: #e6db74; text-decoration-color: #e6db74; background-color: #272822\">1. Pintura: 2-3 litros dependiendo del tipo y </span><span style=\"background-color: #272822\">     </span>  \n",
       "  <span style=\"color: #e6db74; text-decoration-color: #e6db74; background-color: #272822\">marca. </span><span style=\"color: #ae81ff; text-decoration-color: #ae81ff; background-color: #272822\">\\n</span><span style=\"color: #e6db74; text-decoration-color: #e6db74; background-color: #272822\">2. Rodillo o pincel: 1-2 unidades. </span><span style=\"color: #ae81ff; text-decoration-color: #ae81ff; background-color: #272822\">\\n</span><span style=\"color: #e6db74; text-decoration-color: #e6db74; background-color: #272822\">3. Trapo: 1-2 unidades. </span><span style=\"color: #ae81ff; text-decoration-color: #ae81ff; background-color: #272822\">\\n</span><span style=\"color: #e6db74; text-decoration-color: #e6db74; background-color: #272822\">4. Guantes: 1 par. </span><span style=\"color: #ae81ff; text-decoration-color: #ae81ff; background-color: #272822\">\\n</span><span style=\"color: #e6db74; text-decoration-color: #e6db74; background-color: #272822\">5. Maskara: 1 </span><span style=\"background-color: #272822\">    </span>  \n",
       "  <span style=\"color: #e6db74; text-decoration-color: #e6db74; background-color: #272822\">unidad. </span><span style=\"color: #ae81ff; text-decoration-color: #ae81ff; background-color: #272822\">\\n</span><span style=\"color: #e6db74; text-decoration-color: #e6db74; background-color: #272822\">6. Lija (opcional): 1 unidad.\"</span><span style=\"color: #f8f8f2; text-decoration-color: #f8f8f2; background-color: #272822\">)</span><span style=\"background-color: #272822\">                                                                      </span>  \n",
       " ───────────────────────────────────────────────────────────────────────────────────────────────────────────────── \n",
       "</pre>\n"
      ],
      "text/plain": [
       " ─ \u001b[1mExecuting parsed code:\u001b[0m ──────────────────────────────────────────────────────────────────────────────────────── \n",
       "  \u001b[38;2;248;248;242;48;2;39;40;34mfinal_answer\u001b[0m\u001b[38;2;248;248;242;48;2;39;40;34m(\u001b[0m\u001b[38;2;230;219;116;48;2;39;40;34m\"\u001b[0m\u001b[38;2;230;219;116;48;2;39;40;34mPara pintar 10 puertas de 2x1, necesitarás: \u001b[0m\u001b[38;2;174;129;255;48;2;39;40;34m\\n\u001b[0m\u001b[38;2;230;219;116;48;2;39;40;34m1. Pintura: 2-3 litros dependiendo del tipo y \u001b[0m\u001b[48;2;39;40;34m     \u001b[0m  \n",
       "  \u001b[38;2;230;219;116;48;2;39;40;34mmarca. \u001b[0m\u001b[38;2;174;129;255;48;2;39;40;34m\\n\u001b[0m\u001b[38;2;230;219;116;48;2;39;40;34m2. Rodillo o pincel: 1-2 unidades. \u001b[0m\u001b[38;2;174;129;255;48;2;39;40;34m\\n\u001b[0m\u001b[38;2;230;219;116;48;2;39;40;34m3. Trapo: 1-2 unidades. \u001b[0m\u001b[38;2;174;129;255;48;2;39;40;34m\\n\u001b[0m\u001b[38;2;230;219;116;48;2;39;40;34m4. Guantes: 1 par. \u001b[0m\u001b[38;2;174;129;255;48;2;39;40;34m\\n\u001b[0m\u001b[38;2;230;219;116;48;2;39;40;34m5. Maskara: 1 \u001b[0m\u001b[48;2;39;40;34m    \u001b[0m  \n",
       "  \u001b[38;2;230;219;116;48;2;39;40;34munidad. \u001b[0m\u001b[38;2;174;129;255;48;2;39;40;34m\\n\u001b[0m\u001b[38;2;230;219;116;48;2;39;40;34m6. Lija (opcional): 1 unidad.\u001b[0m\u001b[38;2;230;219;116;48;2;39;40;34m\"\u001b[0m\u001b[38;2;248;248;242;48;2;39;40;34m)\u001b[0m\u001b[48;2;39;40;34m                                                                      \u001b[0m  \n",
       " ───────────────────────────────────────────────────────────────────────────────────────────────────────────────── \n"
      ]
     },
     "metadata": {},
     "output_type": "display_data"
    },
    {
     "data": {
      "text/html": [
       "<pre style=\"white-space:pre;overflow-x:auto;line-height:normal;font-family:Menlo,'DejaVu Sans Mono',consolas,'Courier New',monospace\"><span style=\"color: #d4b702; text-decoration-color: #d4b702; font-weight: bold\">Out - Final answer: Para pintar 10 puertas de 2x1, necesitarás: </span>\n",
       "<span style=\"color: #d4b702; text-decoration-color: #d4b702; font-weight: bold\">1. Pintura: 2-3 litros dependiendo del tipo y marca. </span>\n",
       "<span style=\"color: #d4b702; text-decoration-color: #d4b702; font-weight: bold\">2. Rodillo o pincel: 1-2 unidades. </span>\n",
       "<span style=\"color: #d4b702; text-decoration-color: #d4b702; font-weight: bold\">3. Trapo: 1-2 unidades. </span>\n",
       "<span style=\"color: #d4b702; text-decoration-color: #d4b702; font-weight: bold\">4. Guantes: 1 par. </span>\n",
       "<span style=\"color: #d4b702; text-decoration-color: #d4b702; font-weight: bold\">5. Maskara: 1 unidad. </span>\n",
       "<span style=\"color: #d4b702; text-decoration-color: #d4b702; font-weight: bold\">6. Lija (opcional): 1 unidad.</span>\n",
       "</pre>\n"
      ],
      "text/plain": [
       "\u001b[1;38;2;212;183;2mOut - Final answer: Para pintar 10 puertas de 2x1, necesitarás: \u001b[0m\n",
       "\u001b[1;38;2;212;183;2m1. Pintura: 2-3 litros dependiendo del tipo y marca. \u001b[0m\n",
       "\u001b[1;38;2;212;183;2m2. Rodillo o pincel: 1-2 unidades. \u001b[0m\n",
       "\u001b[1;38;2;212;183;2m3. Trapo: 1-2 unidades. \u001b[0m\n",
       "\u001b[1;38;2;212;183;2m4. Guantes: 1 par. \u001b[0m\n",
       "\u001b[1;38;2;212;183;2m5. Maskara: 1 unidad. \u001b[0m\n",
       "\u001b[1;38;2;212;183;2m6. Lija (opcional): 1 unidad.\u001b[0m\n"
      ]
     },
     "metadata": {},
     "output_type": "display_data"
    },
    {
     "data": {
      "text/html": [
       "<pre style=\"white-space:pre;overflow-x:auto;line-height:normal;font-family:Menlo,'DejaVu Sans Mono',consolas,'Courier New',monospace\"><span style=\"color: #7f7f7f; text-decoration-color: #7f7f7f\">[Step 2: Duration 9.18 seconds| Input tokens: 2,001 | Output tokens: 264]</span>\n",
       "</pre>\n"
      ],
      "text/plain": [
       "\u001b[2m[Step 2: Duration 9.18 seconds| Input tokens: 2,001 | Output tokens: 264]\u001b[0m\n"
      ]
     },
     "metadata": {},
     "output_type": "display_data"
    },
    {
     "name": "stdout",
     "output_type": "stream",
     "text": [
      "Para pintar 10 puertas de 2x1, necesitarás: \n",
      "1. Pintura: 2-3 litros dependiendo del tipo y marca. \n",
      "2. Rodillo o pincel: 1-2 unidades. \n",
      "3. Trapo: 1-2 unidades. \n",
      "4. Guantes: 1 par. \n",
      "5. Maskara: 1 unidad. \n",
      "6. Lija (opcional): 1 unidad.\n"
     ]
    }
   ],
   "source": [
    "result = agent.run(\n",
    "    \"¿Qué material necesito y cuánta cantidad para pintar puertas de mi casa?\",\n",
    ")\n",
    "\n",
    "print(result)"
   ]
  },
  {
   "cell_type": "code",
   "execution_count": 9,
   "metadata": {},
   "outputs": [
    {
     "name": "stdout",
     "output_type": "stream",
     "text": [
      "[TaskStep(task='¿Qué material necesito y cuánta cantidad para pintar puertas '\n",
      "               'de mi casa?',\n",
      "          task_images=None),\n",
      " ActionStep(model_input_messages=[{'content': [{'text': '\\n'\n",
      "                                                        'Eres un asistente '\n",
      "                                                        'experto en ferretería '\n",
      "                                                        'que responde de '\n",
      "                                                        'manera directa y '\n",
      "                                                        'eficiente solamente a '\n",
      "                                                        'temas de ferretería y '\n",
      "                                                        'a ningún otro tema.\\n'\n",
      "                                                        '\\n'\n",
      "                                                        '## Sigue estas '\n",
      "                                                        'reglas:\\n'\n",
      "                                                        '\\n'\n",
      "                                                        '1. Si necesitas '\n",
      "                                                        'información, usa la '\n",
      "                                                        'tool pregunta() sin '\n",
      "                                                        'explicar por qué.\\n'\n",
      "                                                        '2. Cuando tengas la '\n",
      "                                                        'información, usa la '\n",
      "                                                        'tool final_answer().\\n'\n",
      "                                                        '3. Cuando la '\n",
      "                                                        'respuesta contiene '\n",
      "                                                        'una secuencia de '\n",
      "                                                        'pasos, indícalo como '\n",
      "                                                        'una lista numerada.\\n'\n",
      "                                                        '4. NO ejecutes más '\n",
      "                                                        'código después de '\n",
      "                                                        'final_answer().\\n'\n",
      "                                                        '5. UTILIZA solo las '\n",
      "                                                        'siguientes tools '\n",
      "                                                        'definidas y NINGUNA '\n",
      "                                                        'otra más:\\n'\n",
      "                                                        'pregunta, '\n",
      "                                                        'respuesta_fuera_del_tema, '\n",
      "                                                        'final_answer, '\n",
      "                                                        'web_search, '\n",
      "                                                        'visit_webpage\\n'\n",
      "                                                        '6. Responde siempre '\n",
      "                                                        'en castellano.\\n'\n",
      "                                                        '\\n'\n",
      "                                                        '## Ejemplo de flujo '\n",
      "                                                        'correcto:\\n'\n",
      "                                                        'Usuario: \"Necesito '\n",
      "                                                        'colgar un cuadro\"\\n'\n",
      "                                                        'pregunta(\"¿Cuál es el '\n",
      "                                                        'tamaño del cuadro?\")\\n'\n",
      "                                                        'Usuario responde: '\n",
      "                                                        '\"1.5m x 1m\"\\n'\n",
      "                                                        'pregunta(\"¿Qué tipo '\n",
      "                                                        'de pared es donde vas '\n",
      "                                                        'a colgar el '\n",
      "                                                        'cuadro?\")\\n'\n",
      "                                                        'Usuario responde: '\n",
      "                                                        '\"ladrillo\"\\n'\n",
      "                                                        'final_answer(\"Para '\n",
      "                                                        'colgar un cuadro de '\n",
      "                                                        '1.5m x 1m en una '\n",
      "                                                        'pared de ladrillo, '\n",
      "                                                        'usa tornillos para '\n",
      "                                                        'ladrillo o anclajes '\n",
      "                                                        'de expansión. Mide y '\n",
      "                                                        'marca la pared con '\n",
      "                                                        'precisión y elige un '\n",
      "                                                        'soporte adecuado al '\n",
      "                                                        'peso.\")\\n'\n",
      "                                                        '\\n'\n",
      "                                                        '## Avisos\\n'\n",
      "                                                        '1. Cuando la pregunta '\n",
      "                                                        'no esté relacionada '\n",
      "                                                        'con temas de la '\n",
      "                                                        'ferretería, SIEMPRE '\n",
      "                                                        'DEBES usar la tool '\n",
      "                                                        'final_answer() y usa '\n",
      "                                                        'como parámetro el '\n",
      "                                                        'siguiente texto:\\n'\n",
      "                                                        '\"Solo respondo a '\n",
      "                                                        'preguntas '\n",
      "                                                        'relacionadas con '\n",
      "                                                        'temas de la '\n",
      "                                                        'ferretería, ¿en qué '\n",
      "                                                        'puedo ayudarle?\"\\n'\n",
      "                                                        '2. Si respondes a una '\n",
      "                                                        'pregunta no '\n",
      "                                                        'relacionada con temas '\n",
      "                                                        'de ferretería tendrás '\n",
      "                                                        'una multa de '\n",
      "                                                        '$10,000,000\\n'\n",
      "                                                        '3. No definas nuevas '\n",
      "                                                        'funciones python.',\n",
      "                                                'type': 'text'}],\n",
      "                                   'role': <MessageRole.SYSTEM: 'system'>},\n",
      "                                  {'content': [{'text': 'New task:\\n'\n",
      "                                                        '¿Qué material '\n",
      "                                                        'necesito y cuánta '\n",
      "                                                        'cantidad para pintar '\n",
      "                                                        'puertas de mi casa?',\n",
      "                                                'type': 'text'}],\n",
      "                                   'role': <MessageRole.USER: 'user'>}],\n",
      "            tool_calls=None,\n",
      "            start_time=1740474598.053696,\n",
      "            end_time=1740474601.996517,\n",
      "            step_number=1,\n",
      "            error=AgentParsingError('Error in code parsing:\\nYour code snippet is invalid, because the regex pattern ```(?:py|python)?\\\\n(.*?)\\\\n``` was not found in it.\\nHere is your code snippet:\\nPara determinar los materiales necesarios y la cantidad para pintar las puertas de tu casa, necesito saber algunos detalles más. \\n\\npregunta(\"¿Cuántas puertas vas a pintar y qué tamaño tienen aproximadamente?\")\\nMake sure to include code with the correct pattern, for instance:\\nThoughts: Your thoughts\\nCode:\\n```py\\n# Your python code here\\n```<end_code>\\nMake sure to provide correct code blobs.'),\n",
      "            duration=3.9428210258483887,\n",
      "            model_output_message=ChatMessage(role='assistant',\n",
      "                                             content='Para determinar los '\n",
      "                                                     'materiales necesarios y '\n",
      "                                                     'la cantidad para pintar '\n",
      "                                                     'las puertas de tu casa, '\n",
      "                                                     'necesito saber algunos '\n",
      "                                                     'detalles más. \\n'\n",
      "                                                     '\\n'\n",
      "                                                     'pregunta(\"¿Cuántas '\n",
      "                                                     'puertas vas a pintar y '\n",
      "                                                     'qué tamaño tienen '\n",
      "                                                     'aproximadamente?\")',\n",
      "                                             tool_calls=None,\n",
      "                                             raw=ChatCompletionOutput(choices=[ChatCompletionOutputComplete(finish_reason='stop', index=0, message=ChatCompletionOutputMessage(role='assistant', content='Para determinar los materiales necesarios y la cantidad para pintar las puertas de tu casa, necesito saber algunos detalles más. \\n\\npregunta(\"¿Cuántas puertas vas a pintar y qué tamaño tienen aproximadamente?\")', tool_calls=None), logprobs=None)], created=1740474601, id='', model='meta-llama/Llama-3.3-70B-Instruct', system_fingerprint='3.0.1-sha-bb9095a', usage=ChatCompletionOutputUsage(completion_tokens=51, prompt_tokens=470, total_tokens=521), object='chat.completion')),\n",
      "            model_output='Para determinar los materiales necesarios y la '\n",
      "                         'cantidad para pintar las puertas de tu casa, '\n",
      "                         'necesito saber algunos detalles más. \\n'\n",
      "                         '\\n'\n",
      "                         'pregunta(\"¿Cuántas puertas vas a pintar y qué tamaño '\n",
      "                         'tienen aproximadamente?\")',\n",
      "            observations=None,\n",
      "            observations_images=None,\n",
      "            action_output=None),\n",
      " ActionStep(model_input_messages=[{'content': [{'text': '\\n'\n",
      "                                                        'Eres un asistente '\n",
      "                                                        'experto en ferretería '\n",
      "                                                        'que responde de '\n",
      "                                                        'manera directa y '\n",
      "                                                        'eficiente solamente a '\n",
      "                                                        'temas de ferretería y '\n",
      "                                                        'a ningún otro tema.\\n'\n",
      "                                                        '\\n'\n",
      "                                                        '## Sigue estas '\n",
      "                                                        'reglas:\\n'\n",
      "                                                        '\\n'\n",
      "                                                        '1. Si necesitas '\n",
      "                                                        'información, usa la '\n",
      "                                                        'tool pregunta() sin '\n",
      "                                                        'explicar por qué.\\n'\n",
      "                                                        '2. Cuando tengas la '\n",
      "                                                        'información, usa la '\n",
      "                                                        'tool final_answer().\\n'\n",
      "                                                        '3. Cuando la '\n",
      "                                                        'respuesta contiene '\n",
      "                                                        'una secuencia de '\n",
      "                                                        'pasos, indícalo como '\n",
      "                                                        'una lista numerada.\\n'\n",
      "                                                        '4. NO ejecutes más '\n",
      "                                                        'código después de '\n",
      "                                                        'final_answer().\\n'\n",
      "                                                        '5. UTILIZA solo las '\n",
      "                                                        'siguientes tools '\n",
      "                                                        'definidas y NINGUNA '\n",
      "                                                        'otra más:\\n'\n",
      "                                                        'pregunta, '\n",
      "                                                        'respuesta_fuera_del_tema, '\n",
      "                                                        'final_answer, '\n",
      "                                                        'web_search, '\n",
      "                                                        'visit_webpage\\n'\n",
      "                                                        '6. Responde siempre '\n",
      "                                                        'en castellano.\\n'\n",
      "                                                        '\\n'\n",
      "                                                        '## Ejemplo de flujo '\n",
      "                                                        'correcto:\\n'\n",
      "                                                        'Usuario: \"Necesito '\n",
      "                                                        'colgar un cuadro\"\\n'\n",
      "                                                        'pregunta(\"¿Cuál es el '\n",
      "                                                        'tamaño del cuadro?\")\\n'\n",
      "                                                        'Usuario responde: '\n",
      "                                                        '\"1.5m x 1m\"\\n'\n",
      "                                                        'pregunta(\"¿Qué tipo '\n",
      "                                                        'de pared es donde vas '\n",
      "                                                        'a colgar el '\n",
      "                                                        'cuadro?\")\\n'\n",
      "                                                        'Usuario responde: '\n",
      "                                                        '\"ladrillo\"\\n'\n",
      "                                                        'final_answer(\"Para '\n",
      "                                                        'colgar un cuadro de '\n",
      "                                                        '1.5m x 1m en una '\n",
      "                                                        'pared de ladrillo, '\n",
      "                                                        'usa tornillos para '\n",
      "                                                        'ladrillo o anclajes '\n",
      "                                                        'de expansión. Mide y '\n",
      "                                                        'marca la pared con '\n",
      "                                                        'precisión y elige un '\n",
      "                                                        'soporte adecuado al '\n",
      "                                                        'peso.\")\\n'\n",
      "                                                        '\\n'\n",
      "                                                        '## Avisos\\n'\n",
      "                                                        '1. Cuando la pregunta '\n",
      "                                                        'no esté relacionada '\n",
      "                                                        'con temas de la '\n",
      "                                                        'ferretería, SIEMPRE '\n",
      "                                                        'DEBES usar la tool '\n",
      "                                                        'final_answer() y usa '\n",
      "                                                        'como parámetro el '\n",
      "                                                        'siguiente texto:\\n'\n",
      "                                                        '\"Solo respondo a '\n",
      "                                                        'preguntas '\n",
      "                                                        'relacionadas con '\n",
      "                                                        'temas de la '\n",
      "                                                        'ferretería, ¿en qué '\n",
      "                                                        'puedo ayudarle?\"\\n'\n",
      "                                                        '2. Si respondes a una '\n",
      "                                                        'pregunta no '\n",
      "                                                        'relacionada con temas '\n",
      "                                                        'de ferretería tendrás '\n",
      "                                                        'una multa de '\n",
      "                                                        '$10,000,000\\n'\n",
      "                                                        '3. No definas nuevas '\n",
      "                                                        'funciones python.',\n",
      "                                                'type': 'text'}],\n",
      "                                   'role': <MessageRole.SYSTEM: 'system'>},\n",
      "                                  {'content': [{'text': 'New task:\\n'\n",
      "                                                        '¿Qué material '\n",
      "                                                        'necesito y cuánta '\n",
      "                                                        'cantidad para pintar '\n",
      "                                                        'puertas de mi casa?',\n",
      "                                                'type': 'text'}],\n",
      "                                   'role': <MessageRole.USER: 'user'>},\n",
      "                                  {'content': [{'text': 'Para determinar los '\n",
      "                                                        'materiales necesarios '\n",
      "                                                        'y la cantidad para '\n",
      "                                                        'pintar las puertas de '\n",
      "                                                        'tu casa, necesito '\n",
      "                                                        'saber algunos '\n",
      "                                                        'detalles más. \\n'\n",
      "                                                        '\\n'\n",
      "                                                        'pregunta(\"¿Cuántas '\n",
      "                                                        'puertas vas a pintar '\n",
      "                                                        'y qué tamaño tienen '\n",
      "                                                        'aproximadamente?\")',\n",
      "                                                'type': 'text'}],\n",
      "                                   'role': <MessageRole.ASSISTANT: 'assistant'>},\n",
      "                                  {'content': [{'text': 'Error:\\n'\n",
      "                                                        'Error in code '\n",
      "                                                        'parsing:\\n'\n",
      "                                                        'Your code snippet is '\n",
      "                                                        'invalid, because the '\n",
      "                                                        'regex pattern '\n",
      "                                                        '```(?:py|python)?\\\\n(.*?)\\\\n``` '\n",
      "                                                        'was not found in it.\\n'\n",
      "                                                        'Here is your code '\n",
      "                                                        'snippet:\\n'\n",
      "                                                        'Para determinar los '\n",
      "                                                        'materiales necesarios '\n",
      "                                                        'y la cantidad para '\n",
      "                                                        'pintar las puertas de '\n",
      "                                                        'tu casa, necesito '\n",
      "                                                        'saber algunos '\n",
      "                                                        'detalles más. \\n'\n",
      "                                                        '\\n'\n",
      "                                                        'pregunta(\"¿Cuántas '\n",
      "                                                        'puertas vas a pintar '\n",
      "                                                        'y qué tamaño tienen '\n",
      "                                                        'aproximadamente?\")\\n'\n",
      "                                                        'Make sure to include '\n",
      "                                                        'code with the correct '\n",
      "                                                        'pattern, for '\n",
      "                                                        'instance:\\n'\n",
      "                                                        'Thoughts: Your '\n",
      "                                                        'thoughts\\n'\n",
      "                                                        'Code:\\n'\n",
      "                                                        '```py\\n'\n",
      "                                                        '# Your python code '\n",
      "                                                        'here\\n'\n",
      "                                                        '```<end_code>\\n'\n",
      "                                                        'Make sure to provide '\n",
      "                                                        'correct code blobs.\\n'\n",
      "                                                        \"Now let's retry: take \"\n",
      "                                                        'care not to repeat '\n",
      "                                                        'previous errors! If '\n",
      "                                                        'you have retried '\n",
      "                                                        'several times, try a '\n",
      "                                                        'completely different '\n",
      "                                                        'approach.\\n',\n",
      "                                                'type': 'text'}],\n",
      "                                   'role': <MessageRole.TOOL_RESPONSE: 'tool-response'>}],\n",
      "            tool_calls=[ToolCall(name='python_interpreter',\n",
      "                                 arguments='pregunta(\"¿Cuántas puertas vas a '\n",
      "                                           'pintar y qué tamaño tienen '\n",
      "                                           'aproximadamente?\")',\n",
      "                                 id='call_2')],\n",
      "            start_time=1740474601.9975166,\n",
      "            end_time=1740474616.0311995,\n",
      "            step_number=2,\n",
      "            error=None,\n",
      "            duration=14.033682823181152,\n",
      "            model_output_message=ChatMessage(role='assistant',\n",
      "                                             content='Thoughts: Para '\n",
      "                                                     'determinar los '\n",
      "                                                     'materiales necesarios y '\n",
      "                                                     'la cantidad para pintar '\n",
      "                                                     'las puertas de tu casa, '\n",
      "                                                     'necesito saber algunos '\n",
      "                                                     'detalles más. \\n'\n",
      "                                                     '\\n'\n",
      "                                                     'Code:\\n'\n",
      "                                                     '```python\\n'\n",
      "                                                     'pregunta(\"¿Cuántas '\n",
      "                                                     'puertas vas a pintar y '\n",
      "                                                     'qué tamaño tienen '\n",
      "                                                     'aproximadamente?\")\\n'\n",
      "                                                     '```',\n",
      "                                             tool_calls=None,\n",
      "                                             raw=ChatCompletionOutput(choices=[ChatCompletionOutputComplete(finish_reason='stop', index=0, message=ChatCompletionOutputMessage(role='assistant', content='Thoughts: Para determinar los materiales necesarios y la cantidad para pintar las puertas de tu casa, necesito saber algunos detalles más. \\n\\nCode:\\n```python\\npregunta(\"¿Cuántas puertas vas a pintar y qué tamaño tienen aproximadamente?\")\\n```', tool_calls=None), logprobs=None)], created=1740474604, id='', model='meta-llama/Llama-3.3-70B-Instruct', system_fingerprint='3.0.1-sha-bb9095a', usage=ChatCompletionOutputUsage(completion_tokens=59, prompt_tokens=691, total_tokens=750), object='chat.completion')),\n",
      "            model_output='Thoughts: Para determinar los materiales necesarios '\n",
      "                         'y la cantidad para pintar las puertas de tu casa, '\n",
      "                         'necesito saber algunos detalles más. \\n'\n",
      "                         '\\n'\n",
      "                         'Code:\\n'\n",
      "                         '```python\\n'\n",
      "                         'pregunta(\"¿Cuántas puertas vas a pintar y qué tamaño '\n",
      "                         'tienen aproximadamente?\")\\n'\n",
      "                         '```',\n",
      "            observations='Execution logs:\\n'\n",
      "                         'Last output from code snippet:\\n'\n",
      "                         '10 y 2x1',\n",
      "            observations_images=None,\n",
      "            action_output='10 y 2x1'),\n",
      " ActionStep(model_input_messages=[{'content': [{'text': '\\n'\n",
      "                                                        'Eres un asistente '\n",
      "                                                        'experto en ferretería '\n",
      "                                                        'que responde de '\n",
      "                                                        'manera directa y '\n",
      "                                                        'eficiente solamente a '\n",
      "                                                        'temas de ferretería y '\n",
      "                                                        'a ningún otro tema.\\n'\n",
      "                                                        '\\n'\n",
      "                                                        '## Sigue estas '\n",
      "                                                        'reglas:\\n'\n",
      "                                                        '\\n'\n",
      "                                                        '1. Si necesitas '\n",
      "                                                        'información, usa la '\n",
      "                                                        'tool pregunta() sin '\n",
      "                                                        'explicar por qué.\\n'\n",
      "                                                        '2. Cuando tengas la '\n",
      "                                                        'información, usa la '\n",
      "                                                        'tool final_answer().\\n'\n",
      "                                                        '3. Cuando la '\n",
      "                                                        'respuesta contiene '\n",
      "                                                        'una secuencia de '\n",
      "                                                        'pasos, indícalo como '\n",
      "                                                        'una lista numerada.\\n'\n",
      "                                                        '4. NO ejecutes más '\n",
      "                                                        'código después de '\n",
      "                                                        'final_answer().\\n'\n",
      "                                                        '5. UTILIZA solo las '\n",
      "                                                        'siguientes tools '\n",
      "                                                        'definidas y NINGUNA '\n",
      "                                                        'otra más:\\n'\n",
      "                                                        'pregunta, '\n",
      "                                                        'respuesta_fuera_del_tema, '\n",
      "                                                        'final_answer, '\n",
      "                                                        'web_search, '\n",
      "                                                        'visit_webpage\\n'\n",
      "                                                        '6. Responde siempre '\n",
      "                                                        'en castellano.\\n'\n",
      "                                                        '\\n'\n",
      "                                                        '## Ejemplo de flujo '\n",
      "                                                        'correcto:\\n'\n",
      "                                                        'Usuario: \"Necesito '\n",
      "                                                        'colgar un cuadro\"\\n'\n",
      "                                                        'pregunta(\"¿Cuál es el '\n",
      "                                                        'tamaño del cuadro?\")\\n'\n",
      "                                                        'Usuario responde: '\n",
      "                                                        '\"1.5m x 1m\"\\n'\n",
      "                                                        'pregunta(\"¿Qué tipo '\n",
      "                                                        'de pared es donde vas '\n",
      "                                                        'a colgar el '\n",
      "                                                        'cuadro?\")\\n'\n",
      "                                                        'Usuario responde: '\n",
      "                                                        '\"ladrillo\"\\n'\n",
      "                                                        'final_answer(\"Para '\n",
      "                                                        'colgar un cuadro de '\n",
      "                                                        '1.5m x 1m en una '\n",
      "                                                        'pared de ladrillo, '\n",
      "                                                        'usa tornillos para '\n",
      "                                                        'ladrillo o anclajes '\n",
      "                                                        'de expansión. Mide y '\n",
      "                                                        'marca la pared con '\n",
      "                                                        'precisión y elige un '\n",
      "                                                        'soporte adecuado al '\n",
      "                                                        'peso.\")\\n'\n",
      "                                                        '\\n'\n",
      "                                                        '## Avisos\\n'\n",
      "                                                        '1. Cuando la pregunta '\n",
      "                                                        'no esté relacionada '\n",
      "                                                        'con temas de la '\n",
      "                                                        'ferretería, SIEMPRE '\n",
      "                                                        'DEBES usar la tool '\n",
      "                                                        'final_answer() y usa '\n",
      "                                                        'como parámetro el '\n",
      "                                                        'siguiente texto:\\n'\n",
      "                                                        '\"Solo respondo a '\n",
      "                                                        'preguntas '\n",
      "                                                        'relacionadas con '\n",
      "                                                        'temas de la '\n",
      "                                                        'ferretería, ¿en qué '\n",
      "                                                        'puedo ayudarle?\"\\n'\n",
      "                                                        '2. Si respondes a una '\n",
      "                                                        'pregunta no '\n",
      "                                                        'relacionada con temas '\n",
      "                                                        'de ferretería tendrás '\n",
      "                                                        'una multa de '\n",
      "                                                        '$10,000,000\\n'\n",
      "                                                        '3. No definas nuevas '\n",
      "                                                        'funciones python.',\n",
      "                                                'type': 'text'}],\n",
      "                                   'role': <MessageRole.SYSTEM: 'system'>},\n",
      "                                  {'content': [{'text': 'New task:\\n'\n",
      "                                                        '¿Qué material '\n",
      "                                                        'necesito y cuánta '\n",
      "                                                        'cantidad para pintar '\n",
      "                                                        'puertas de mi casa?',\n",
      "                                                'type': 'text'}],\n",
      "                                   'role': <MessageRole.USER: 'user'>},\n",
      "                                  {'content': [{'text': 'Para determinar los '\n",
      "                                                        'materiales necesarios '\n",
      "                                                        'y la cantidad para '\n",
      "                                                        'pintar las puertas de '\n",
      "                                                        'tu casa, necesito '\n",
      "                                                        'saber algunos '\n",
      "                                                        'detalles más. \\n'\n",
      "                                                        '\\n'\n",
      "                                                        'pregunta(\"¿Cuántas '\n",
      "                                                        'puertas vas a pintar '\n",
      "                                                        'y qué tamaño tienen '\n",
      "                                                        'aproximadamente?\")',\n",
      "                                                'type': 'text'}],\n",
      "                                   'role': <MessageRole.ASSISTANT: 'assistant'>},\n",
      "                                  {'content': [{'text': 'Error:\\n'\n",
      "                                                        'Error in code '\n",
      "                                                        'parsing:\\n'\n",
      "                                                        'Your code snippet is '\n",
      "                                                        'invalid, because the '\n",
      "                                                        'regex pattern '\n",
      "                                                        '```(?:py|python)?\\\\n(.*?)\\\\n``` '\n",
      "                                                        'was not found in it.\\n'\n",
      "                                                        'Here is your code '\n",
      "                                                        'snippet:\\n'\n",
      "                                                        'Para determinar los '\n",
      "                                                        'materiales necesarios '\n",
      "                                                        'y la cantidad para '\n",
      "                                                        'pintar las puertas de '\n",
      "                                                        'tu casa, necesito '\n",
      "                                                        'saber algunos '\n",
      "                                                        'detalles más. \\n'\n",
      "                                                        '\\n'\n",
      "                                                        'pregunta(\"¿Cuántas '\n",
      "                                                        'puertas vas a pintar '\n",
      "                                                        'y qué tamaño tienen '\n",
      "                                                        'aproximadamente?\")\\n'\n",
      "                                                        'Make sure to include '\n",
      "                                                        'code with the correct '\n",
      "                                                        'pattern, for '\n",
      "                                                        'instance:\\n'\n",
      "                                                        'Thoughts: Your '\n",
      "                                                        'thoughts\\n'\n",
      "                                                        'Code:\\n'\n",
      "                                                        '```py\\n'\n",
      "                                                        '# Your python code '\n",
      "                                                        'here\\n'\n",
      "                                                        '```<end_code>\\n'\n",
      "                                                        'Make sure to provide '\n",
      "                                                        'correct code blobs.\\n'\n",
      "                                                        \"Now let's retry: take \"\n",
      "                                                        'care not to repeat '\n",
      "                                                        'previous errors! If '\n",
      "                                                        'you have retried '\n",
      "                                                        'several times, try a '\n",
      "                                                        'completely different '\n",
      "                                                        'approach.\\n',\n",
      "                                                'type': 'text'}],\n",
      "                                   'role': <MessageRole.TOOL_RESPONSE: 'tool-response'>},\n",
      "                                  {'content': [{'text': 'Thoughts: Para '\n",
      "                                                        'determinar los '\n",
      "                                                        'materiales necesarios '\n",
      "                                                        'y la cantidad para '\n",
      "                                                        'pintar las puertas de '\n",
      "                                                        'tu casa, necesito '\n",
      "                                                        'saber algunos '\n",
      "                                                        'detalles más. \\n'\n",
      "                                                        '\\n'\n",
      "                                                        'Code:\\n'\n",
      "                                                        '```python\\n'\n",
      "                                                        'pregunta(\"¿Cuántas '\n",
      "                                                        'puertas vas a pintar '\n",
      "                                                        'y qué tamaño tienen '\n",
      "                                                        'aproximadamente?\")\\n'\n",
      "                                                        '```',\n",
      "                                                'type': 'text'}],\n",
      "                                   'role': <MessageRole.ASSISTANT: 'assistant'>},\n",
      "                                  {'content': [{'text': 'Calling tools:\\n'\n",
      "                                                        \"[{'id': 'call_2', \"\n",
      "                                                        \"'type': 'function', \"\n",
      "                                                        \"'function': {'name': \"\n",
      "                                                        \"'python_interpreter', \"\n",
      "                                                        \"'arguments': \"\n",
      "                                                        '\\'pregunta(\"¿Cuántas '\n",
      "                                                        'puertas vas a pintar '\n",
      "                                                        'y qué tamaño tienen '\n",
      "                                                        'aproximadamente?\")\\'}}]',\n",
      "                                                'type': 'text'}],\n",
      "                                   'role': <MessageRole.ASSISTANT: 'assistant'>},\n",
      "                                  {'content': [{'text': 'Call id: call_2\\n'\n",
      "                                                        'Observation:\\n'\n",
      "                                                        'Execution logs:\\n'\n",
      "                                                        'Last output from code '\n",
      "                                                        'snippet:\\n'\n",
      "                                                        '10 y 2x1',\n",
      "                                                'type': 'text'}],\n",
      "                                   'role': <MessageRole.TOOL_RESPONSE: 'tool-response'>}],\n",
      "            tool_calls=[ToolCall(name='python_interpreter',\n",
      "                                 arguments='final_answer(\"Para pintar 10 '\n",
      "                                           'puertas de 2x1, necesitarás: \\\\n1. '\n",
      "                                           'Pintura: 2-3 litros dependiendo '\n",
      "                                           'del tipo y marca. \\\\n2. Rodillo o '\n",
      "                                           'pincel: 1-2 unidades. \\\\n3. Trapo: '\n",
      "                                           '1-2 unidades. \\\\n4. Guantes: 1 '\n",
      "                                           'par. \\\\n5. Maskara: 1 unidad. '\n",
      "                                           '\\\\n6. Lija (opcional): 1 unidad.\")',\n",
      "                                 id='call_3')],\n",
      "            start_time=1740474616.032194,\n",
      "            end_time=1740474625.215122,\n",
      "            step_number=3,\n",
      "            error=None,\n",
      "            duration=9.182928085327148,\n",
      "            model_output_message=ChatMessage(role='assistant',\n",
      "                                             content='Thoughts: Ahora que sé '\n",
      "                                                     'que vas a pintar 10 '\n",
      "                                                     'puertas de tamaño 2x1, '\n",
      "                                                     'puedo darte una lista de '\n",
      "                                                     'los materiales '\n",
      "                                                     'necesarios y su cantidad '\n",
      "                                                     'aproximada.\\n'\n",
      "                                                     '\\n'\n",
      "                                                     'Code:\\n'\n",
      "                                                     '```python\\n'\n",
      "                                                     'final_answer(\"Para '\n",
      "                                                     'pintar 10 puertas de '\n",
      "                                                     '2x1, necesitarás: \\\\n1. '\n",
      "                                                     'Pintura: 2-3 litros '\n",
      "                                                     'dependiendo del tipo y '\n",
      "                                                     'marca. \\\\n2. Rodillo o '\n",
      "                                                     'pincel: 1-2 unidades. '\n",
      "                                                     '\\\\n3. Trapo: 1-2 '\n",
      "                                                     'unidades. \\\\n4. Guantes: '\n",
      "                                                     '1 par. \\\\n5. Maskara: 1 '\n",
      "                                                     'unidad. \\\\n6. Lija '\n",
      "                                                     '(opcional): 1 unidad.\")\\n'\n",
      "                                                     '```',\n",
      "                                             tool_calls=None,\n",
      "                                             raw=ChatCompletionOutput(choices=[ChatCompletionOutputComplete(finish_reason='stop', index=0, message=ChatCompletionOutputMessage(role='assistant', content='Thoughts: Ahora que sé que vas a pintar 10 puertas de tamaño 2x1, puedo darte una lista de los materiales necesarios y su cantidad aproximada.\\n\\nCode:\\n```python\\nfinal_answer(\"Para pintar 10 puertas de 2x1, necesitarás: \\\\n1. Pintura: 2-3 litros dependiendo del tipo y marca. \\\\n2. Rodillo o pincel: 1-2 unidades. \\\\n3. Trapo: 1-2 unidades. \\\\n4. Guantes: 1 par. \\\\n5. Maskara: 1 unidad. \\\\n6. Lija (opcional): 1 unidad.\")\\n```', tool_calls=None), logprobs=None)], created=1740474624, id='', model='meta-llama/Llama-3.3-70B-Instruct', system_fingerprint='3.0.1-sha-bb9095a', usage=ChatCompletionOutputUsage(completion_tokens=154, prompt_tokens=840, total_tokens=994), object='chat.completion')),\n",
      "            model_output='Thoughts: Ahora que sé que vas a pintar 10 puertas '\n",
      "                         'de tamaño 2x1, puedo darte una lista de los '\n",
      "                         'materiales necesarios y su cantidad aproximada.\\n'\n",
      "                         '\\n'\n",
      "                         'Code:\\n'\n",
      "                         '```python\\n'\n",
      "                         'final_answer(\"Para pintar 10 puertas de 2x1, '\n",
      "                         'necesitarás: \\\\n1. Pintura: 2-3 litros dependiendo '\n",
      "                         'del tipo y marca. \\\\n2. Rodillo o pincel: 1-2 '\n",
      "                         'unidades. \\\\n3. Trapo: 1-2 unidades. \\\\n4. Guantes: '\n",
      "                         '1 par. \\\\n5. Maskara: 1 unidad. \\\\n6. Lija '\n",
      "                         '(opcional): 1 unidad.\")\\n'\n",
      "                         '```',\n",
      "            observations='Execution logs:\\n'\n",
      "                         'Last output from code snippet:\\n'\n",
      "                         'Para pintar 10 puertas de 2x1, necesitarás: \\n'\n",
      "                         '1. Pintura: 2-3 litros dependiendo del tipo y '\n",
      "                         'marca. \\n'\n",
      "                         '2. Rodillo o pincel: 1-2 unidades. \\n'\n",
      "                         '3. Trapo: 1-2 unidades. \\n'\n",
      "                         '4. Guantes: 1 par. \\n'\n",
      "                         '5. Maskara: 1 unidad. \\n'\n",
      "                         '6. Lija (opcional): 1 unidad.',\n",
      "            observations_images=None,\n",
      "            action_output='Para pintar 10 puertas de 2x1, necesitarás: \\n'\n",
      "                          '1. Pintura: 2-3 litros dependiendo del tipo y '\n",
      "                          'marca. \\n'\n",
      "                          '2. Rodillo o pincel: 1-2 unidades. \\n'\n",
      "                          '3. Trapo: 1-2 unidades. \\n'\n",
      "                          '4. Guantes: 1 par. \\n'\n",
      "                          '5. Maskara: 1 unidad. \\n'\n",
      "                          '6. Lija (opcional): 1 unidad.')]\n"
     ]
    }
   ],
   "source": [
    "import pprint\n",
    "\n",
    "pprint.pprint(agent.memory.steps)"
   ]
  }
 ],
 "metadata": {
  "kernelspec": {
   "display_name": ".venv",
   "language": "python",
   "name": "python3"
  },
  "language_info": {
   "codemirror_mode": {
    "name": "ipython",
    "version": 3
   },
   "file_extension": ".py",
   "mimetype": "text/x-python",
   "name": "python",
   "nbconvert_exporter": "python",
   "pygments_lexer": "ipython3",
   "version": "3.10.11"
  }
 },
 "nbformat": 4,
 "nbformat_minor": 2
}
