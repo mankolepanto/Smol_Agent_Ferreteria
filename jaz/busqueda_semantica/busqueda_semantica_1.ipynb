{
 "cells": [
  {
   "cell_type": "markdown",
   "metadata": {},
   "source": [
    "## Búsqueda semántica 1\n",
    "\n",
    "NOTA: Recomendable ejecutarlo en un entorno virtual de python"
   ]
  },
  {
   "cell_type": "code",
   "execution_count": null,
   "metadata": {},
   "outputs": [],
   "source": [
    "!pip install smolagents smolagents[litellm] python-dotenv"
   ]
  },
  {
   "cell_type": "code",
   "execution_count": null,
   "metadata": {},
   "outputs": [],
   "source": [
    "!python.exe -m pip install --upgrade pip"
   ]
  },
  {
   "cell_type": "markdown",
   "metadata": {},
   "source": [
    "### Cargar la clave de hugging face desde el fichero .env"
   ]
  },
  {
   "cell_type": "code",
   "execution_count": 1,
   "metadata": {},
   "outputs": [],
   "source": [
    "import pprint"
   ]
  },
  {
   "cell_type": "code",
   "execution_count": null,
   "metadata": {},
   "outputs": [],
   "source": [
    "from dotenv import load_dotenv\n",
    "\n",
    "load_dotenv()"
   ]
  },
  {
   "cell_type": "markdown",
   "metadata": {},
   "source": [
    "### Bibliotecas específicas para postgres con pgvector"
   ]
  },
  {
   "cell_type": "code",
   "execution_count": null,
   "metadata": {},
   "outputs": [],
   "source": [
    "!pip install psycopg2-binary numpy"
   ]
  },
  {
   "cell_type": "markdown",
   "metadata": {},
   "source": [
    "### Embeddings"
   ]
  },
  {
   "cell_type": "code",
   "execution_count": null,
   "metadata": {},
   "outputs": [],
   "source": [
    "!pip install transformers torch"
   ]
  },
  {
   "cell_type": "code",
   "execution_count": null,
   "metadata": {},
   "outputs": [],
   "source": [
    "from transformers import AutoTokenizer, AutoModel\n",
    "import torch\n",
    "\n",
    "# Cargar modelo y tokenizer\n",
    "model_name = \"sentence-transformers/all-MiniLM-L6-v2\"\n",
    "tokenizer = AutoTokenizer.from_pretrained(model_name)\n",
    "model_embedding = AutoModel.from_pretrained(model_name)"
   ]
  },
  {
   "cell_type": "code",
   "execution_count": 4,
   "metadata": {},
   "outputs": [],
   "source": [
    "def get_embedding(text):\n",
    "    # Tokenizar el texto\n",
    "    inputs = tokenizer(text, return_tensors=\"pt\", padding=True, truncation=True)\n",
    "    with torch.no_grad():\n",
    "        outputs = model_embedding(**inputs)\n",
    "    # Obtener la representación del [CLS] token\n",
    "    embedding = outputs.last_hidden_state[:, 0, :]\n",
    "    return embedding.numpy()"
   ]
  },
  {
   "cell_type": "code",
   "execution_count": 5,
   "metadata": {},
   "outputs": [],
   "source": [
    "def search_similar(query, limit=3):\n",
    "    query_vector = get_embedding(query)\n",
    "    result = db.search_similar(query_vector[0], limit)\n",
    "\n",
    "    print(f'Pregunta: {query}')\n",
    "    pprint.pprint(result)"
   ]
  },
  {
   "cell_type": "markdown",
   "metadata": {},
   "source": [
    "### Uso de postgres_vector.py"
   ]
  },
  {
   "cell_type": "code",
   "execution_count": 6,
   "metadata": {},
   "outputs": [],
   "source": [
    "from postgres_vector import PostgresVector\n",
    "\n",
    "db = PostgresVector()"
   ]
  },
  {
   "cell_type": "code",
   "execution_count": null,
   "metadata": {},
   "outputs": [],
   "source": [
    "db.connect()\n",
    "\n",
    "db.create_vector_extension()\n",
    "db.create_items_table(dimension=384)  # Ajustar según la dimensión de tus embeddings"
   ]
  },
  {
   "cell_type": "code",
   "execution_count": null,
   "metadata": {},
   "outputs": [],
   "source": [
    "name = 'Martillo'\n",
    "descripcion = 'Martillo herramienta para golpear y clavar'\n",
    "embedding = get_embedding(descripcion)\n",
    "db.insert_item(name, descripcion, embedding[0])\n",
    "\n",
    "name = 'Destornillador'\n",
    "descripcion = 'Destornillador herramienta que sirve para atornillar y desatornillar'\n",
    "embedding = get_embedding(descripcion)\n",
    "db.insert_item(name, descripcion, embedding[0])\n",
    "\n",
    "name = 'Alicates'\n",
    "descripcion = 'Alicates herramienta para cualquier uso'\n",
    "embedding = get_embedding(descripcion)\n",
    "db.insert_item(name, descripcion, embedding[0])\n",
    "\n",
    "name = 'Llave inglesa'\n",
    "descripcion = 'Llave inglesa herramienta para apretar y desapretar'\n",
    "embedding = get_embedding(descripcion)\n",
    "db.insert_item(name, descripcion, embedding[0])\n",
    "\n",
    "name = 'Tijeras'\n",
    "descripcion = 'Tijeras herramienta para cortar'\n",
    "embedding = get_embedding(descripcion)\n",
    "db.insert_item(name, descripcion, embedding[0])\n",
    "\n",
    "name = 'Clavo'\n",
    "descripcion = 'Clavo que sirve para clavar objetos'\n",
    "embedding = get_embedding(descripcion)\n",
    "db.insert_item(name, descripcion, embedding[0])\n",
    "\n",
    "name = 'Tornillo'\n",
    "descripcion = 'Tornillo que sirve para sujetar objetos'\n",
    "embedding = get_embedding(descripcion)\n",
    "db.insert_item(name, descripcion, embedding[0])\n",
    "\n",
    "name = 'Tuerca'\n",
    "descripcion = 'Tuerca que sirve para sujetar objetos'\n",
    "embedding = get_embedding(descripcion)\n",
    "db.insert_item(name, descripcion, embedding[0])\n",
    "\n",
    "\n",
    "name = '¿Cómo te llamas?'\n",
    "descripcion = '¿Cómo te llamas? pregunta para saber el nombre'\n",
    "embedding = get_embedding(descripcion)\n",
    "db.insert_item(name, descripcion, embedding[0])\n",
    "\n",
    "name = '¿Cuál es tu nombre?'\n",
    "descripcion = '¿Cuál es tu nombre? pregunta para saber el nombre'\n",
    "embedding = get_embedding(descripcion)\n",
    "db.insert_item(name, descripcion, embedding[0])\n",
    "\n",
    "name = 'Dime tu nombre'\n",
    "descripcion = 'Dime tu nombre pregunta para saber el nombre'\n",
    "embedding = get_embedding(descripcion)\n",
    "db.insert_item(name, descripcion, embedding[0])\n",
    "\n",
    "name = '¿Cómo estás?'\n",
    "descripcion =  '¿Cómo estás? pregunta para saber si estás bien o no'\n",
    "embedding = get_embedding(descripcion)\n",
    "db.insert_item(name, descripcion, embedding[0])\n",
    "\n",
    "name = 'Me encuentro bien'\n",
    "descripcion = 'Me encuentro bien respuesta para decir que estoy bien'\n",
    "embedding = get_embedding(descripcion)\n",
    "db.insert_item(name, descripcion, embedding[0])\n",
    "\n",
    "name = 'Estoy enfermo'\n",
    "descripcion = 'Estoy enfermo respuesta para decir que estoy '\n",
    "embedding = get_embedding(descripcion)\n",
    "db.insert_item(name, descripcion, embedding[0])\n",
    "\n",
    "name = 'No me duele nada'\n",
    "descripcion = 'No me duele nada respuesta para decir que estoy bien'\n",
    "embedding = get_embedding(descripcion)\n",
    "db.insert_item(name, descripcion, embedding[0])"
   ]
  },
  {
   "cell_type": "code",
   "execution_count": null,
   "metadata": {},
   "outputs": [],
   "source": [
    "'''\n",
    "# Actualizar un item\n",
    "db.update_item(item_id=1, description=\"Martillo de acero inoxidable\")\n",
    "\n",
    "# Eliminar un item\n",
    "db.delete_item(item_id=2)\n",
    "'''"
   ]
  },
  {
   "cell_type": "markdown",
   "metadata": {},
   "source": [
    "### Ejemplos de búsqueda semántica"
   ]
  },
  {
   "cell_type": "code",
   "execution_count": null,
   "metadata": {},
   "outputs": [],
   "source": [
    "search_similar('qué puedo usar para clavar')"
   ]
  },
  {
   "cell_type": "code",
   "execution_count": null,
   "metadata": {},
   "outputs": [],
   "source": [
    "search_similar('herramientas', 5)"
   ]
  },
  {
   "cell_type": "code",
   "execution_count": null,
   "metadata": {},
   "outputs": [],
   "source": [
    "search_similar('cómo preguntar el nombre', 3)"
   ]
  },
  {
   "cell_type": "code",
   "execution_count": null,
   "metadata": {},
   "outputs": [],
   "source": [
    "db.delete_all_items()"
   ]
  },
  {
   "cell_type": "code",
   "execution_count": 21,
   "metadata": {},
   "outputs": [],
   "source": [
    "db.disconnect()"
   ]
  }
 ],
 "metadata": {
  "kernelspec": {
   "display_name": ".VENV",
   "language": "python",
   "name": "python3"
  },
  "language_info": {
   "codemirror_mode": {
    "name": "ipython",
    "version": 3
   },
   "file_extension": ".py",
   "mimetype": "text/x-python",
   "name": "python",
   "nbconvert_exporter": "python",
   "pygments_lexer": "ipython3",
   "version": "3.12.8"
  }
 },
 "nbformat": 4,
 "nbformat_minor": 2
}
