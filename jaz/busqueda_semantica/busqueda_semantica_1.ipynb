{
 "cells": [
  {
   "cell_type": "markdown",
   "metadata": {},
   "source": [
    "## Búsqueda semántica 1\n",
    "\n",
    "NOTA: Recomendable ejecutarlo en un entorno virtual de python"
   ]
  },
  {
   "cell_type": "code",
   "execution_count": null,
   "metadata": {},
   "outputs": [],
   "source": [
    "!pip install smolagents smolagents[litellm] python-dotenv"
   ]
  },
  {
   "cell_type": "code",
   "execution_count": null,
   "metadata": {},
   "outputs": [],
   "source": [
    "!python.exe -m pip install --upgrade pip"
   ]
  },
  {
   "cell_type": "markdown",
   "metadata": {},
   "source": [
    "### Cargar la clave de hugging face desde el fichero .env"
   ]
  },
  {
   "cell_type": "code",
   "execution_count": 1,
   "metadata": {},
   "outputs": [],
   "source": [
    "import pprint"
   ]
  },
  {
   "cell_type": "code",
   "execution_count": 2,
   "metadata": {},
   "outputs": [
    {
     "data": {
      "text/plain": [
       "True"
      ]
     },
     "execution_count": 2,
     "metadata": {},
     "output_type": "execute_result"
    }
   ],
   "source": [
    "from dotenv import load_dotenv\n",
    "\n",
    "load_dotenv()"
   ]
  },
  {
   "cell_type": "markdown",
   "metadata": {},
   "source": [
    "### Bibliotecas específicas para postgres con pgvector"
   ]
  },
  {
   "cell_type": "code",
   "execution_count": null,
   "metadata": {},
   "outputs": [],
   "source": [
    "!pip install psycopg2-binary numpy"
   ]
  },
  {
   "cell_type": "markdown",
   "metadata": {},
   "source": [
    "### Embeddings"
   ]
  },
  {
   "cell_type": "code",
   "execution_count": null,
   "metadata": {},
   "outputs": [],
   "source": [
    "!pip install transformers torch"
   ]
  },
  {
   "cell_type": "code",
   "execution_count": 3,
   "metadata": {},
   "outputs": [
    {
     "name": "stderr",
     "output_type": "stream",
     "text": [
      "e:\\JAZ\\AI3\\ACADEMY\\RETOSMOLAGENT\\SMOL_AGENT_FERRETERIA\\JAZ\\EJEMPLO1\\.VENV\\Lib\\site-packages\\tqdm\\auto.py:21: TqdmWarning: IProgress not found. Please update jupyter and ipywidgets. See https://ipywidgets.readthedocs.io/en/stable/user_install.html\n",
      "  from .autonotebook import tqdm as notebook_tqdm\n"
     ]
    }
   ],
   "source": [
    "from transformers import AutoTokenizer, AutoModel\n",
    "import torch\n",
    "\n",
    "# Cargar modelo y tokenizer\n",
    "model_name = \"sentence-transformers/all-MiniLM-L6-v2\"\n",
    "tokenizer = AutoTokenizer.from_pretrained(model_name)\n",
    "model_embedding = AutoModel.from_pretrained(model_name)"
   ]
  },
  {
   "cell_type": "code",
   "execution_count": 4,
   "metadata": {},
   "outputs": [],
   "source": [
    "def get_embedding(text):\n",
    "    # Tokenizar el texto\n",
    "    inputs = tokenizer(text, return_tensors=\"pt\", padding=True, truncation=True)\n",
    "    with torch.no_grad():\n",
    "        outputs = model_embedding(**inputs)\n",
    "    # Obtener la representación del [CLS] token\n",
    "    embedding = outputs.last_hidden_state[:, 0, :]\n",
    "    return embedding.numpy()"
   ]
  },
  {
   "cell_type": "code",
   "execution_count": null,
   "metadata": {},
   "outputs": [],
   "source": [
    "def search_similar(query, limit):\n",
    "    query_vector = get_embedding(query)\n",
    "    result = db.search_similar(query_vector[0], limit=3)\n",
    "\n",
    "    pprint.pprint('Resultados: ')\n",
    "    pprint.pprint(result)"
   ]
  },
  {
   "cell_type": "markdown",
   "metadata": {},
   "source": [
    "### Uso de postgres_vector.py"
   ]
  },
  {
   "cell_type": "code",
   "execution_count": 5,
   "metadata": {},
   "outputs": [],
   "source": [
    "from postgres_vector import PostgresVector\n",
    "\n",
    "db = PostgresVector()"
   ]
  },
  {
   "cell_type": "code",
   "execution_count": 6,
   "metadata": {},
   "outputs": [
    {
     "data": {
      "text/plain": [
       "True"
      ]
     },
     "execution_count": 6,
     "metadata": {},
     "output_type": "execute_result"
    }
   ],
   "source": [
    "db.connect()\n",
    "\n",
    "db.create_vector_extension()\n",
    "db.create_items_table(dimension=384)  # Ajustar según la dimensión de tus embeddings"
   ]
  },
  {
   "cell_type": "code",
   "execution_count": 7,
   "metadata": {},
   "outputs": [
    {
     "data": {
      "text/plain": [
       "True"
      ]
     },
     "execution_count": 7,
     "metadata": {},
     "output_type": "execute_result"
    }
   ],
   "source": [
    "name = 'Martillo'\n",
    "descripcion = 'Martillo herramienta para golpear y clavar'\n",
    "embedding = get_embedding(descripcion)\n",
    "db.insert_item(name, descripcion, embedding[0])\n",
    "\n",
    "name = 'Destornillador'\n",
    "descripcion = 'Destornillador herramienta que sirve para atornillar y desatornillar'\n",
    "embedding = get_embedding(descripcion)\n",
    "db.insert_item(name, descripcion, embedding[0])\n",
    "\n",
    "name = 'Alicates'\n",
    "descripcion = 'Alicates herramienta para cualquier uso'\n",
    "embedding = get_embedding(descripcion)\n",
    "db.insert_item(name, descripcion, embedding[0])\n",
    "\n",
    "name = 'Llave inglesa'\n",
    "descripcion = 'Llave inglesa herramienta para apretar y desapretar'\n",
    "embedding = get_embedding(descripcion)\n",
    "db.insert_item(name, descripcion, embedding[0])\n",
    "\n",
    "name = 'Tijeras'\n",
    "descripcion = 'Tijeras herramienta para cortar'\n",
    "embedding = get_embedding(descripcion)\n",
    "db.insert_item(name, descripcion, embedding[0])\n",
    "\n",
    "name = 'Clavo'\n",
    "descripcion = 'Clavo que sirve para clavar objetos'\n",
    "embedding = get_embedding(descripcion)\n",
    "db.insert_item(name, descripcion, embedding[0])\n",
    "\n",
    "name = 'Tornillo'\n",
    "descripcion = 'Tornillo que sirve para sujetar objetos'\n",
    "embedding = get_embedding(descripcion)\n",
    "db.insert_item(name, descripcion, embedding[0])\n",
    "\n",
    "name = 'Tuerca'\n",
    "descripcion = 'Tuerca que sirve para sujetar objetos'\n",
    "embedding = get_embedding(descripcion)\n",
    "db.insert_item(name, descripcion, embedding[0])\n",
    "\n",
    "\n",
    "name = '¿Cómo te llamas?'\n",
    "descripcion = '¿Cómo te llamas? pregunta para saber el nombre'\n",
    "embedding = get_embedding(descripcion)\n",
    "db.insert_item(name, descripcion, embedding[0])\n",
    "\n",
    "name = '¿Cuál es tu nombre?'\n",
    "descripcion = '¿Cuál es tu nombre? pregunta para saber el nombre'\n",
    "embedding = get_embedding(descripcion)\n",
    "db.insert_item(name, descripcion, embedding[0])\n",
    "\n",
    "name = 'Dime tu nombre'\n",
    "descripcion = 'Dime tu nombre pregunta para saber el nombre'\n",
    "embedding = get_embedding(descripcion)\n",
    "db.insert_item(name, descripcion, embedding[0])\n",
    "\n",
    "name = '¿Cómo estás?'\n",
    "descripcion =  '¿Cómo estás? pregunta para saber si estás bien o no'\n",
    "embedding = get_embedding(descripcion)\n",
    "db.insert_item(name, descripcion, embedding[0])\n",
    "\n",
    "name = 'Me encuentro bien'\n",
    "descripcion = 'Me encuentro bien respuesta para decir que estoy bien'\n",
    "embedding = get_embedding(descripcion)\n",
    "db.insert_item(name, descripcion, embedding[0])\n",
    "\n",
    "name = 'Estoy enfermo'\n",
    "descripcion = 'Estoy enfermo respuesta para decir que estoy '\n",
    "embedding = get_embedding(descripcion)\n",
    "db.insert_item(name, descripcion, embedding[0])\n",
    "\n",
    "name = 'No me duele nada'\n",
    "descripcion = 'No me duele nada respuesta para decir que estoy bien'\n",
    "embedding = get_embedding(descripcion)\n",
    "db.insert_item(name, descripcion, embedding[0])"
   ]
  },
  {
   "cell_type": "code",
   "execution_count": 8,
   "metadata": {},
   "outputs": [
    {
     "name": "stdout",
     "output_type": "stream",
     "text": [
      "'Resultados: '\n",
      "[(21, 'Clavo', 'Clavo que sirve para clavar objetos', 0.09040693576683156),\n",
      " (23, 'Tuerca', 'Tuerca que sirve para sujetar objetos', 0.168769504095854),\n",
      " (22,\n",
      "  'Tornillo',\n",
      "  'Tornillo que sirve para sujetar objetos',\n",
      "  0.17218497500200747)]\n"
     ]
    }
   ],
   "source": [
    "name = 'qué puedo usar para clavar un clavo'\n",
    "descripcion = name\n",
    "query_vector = get_embedding(descripcion)\n",
    "resultados = db.search_similar(query_vector[0], limit=3)\n",
    "\n",
    "pprint.pprint('Resultados: ')\n",
    "pprint.pprint(resultados)"
   ]
  },
  {
   "cell_type": "code",
   "execution_count": null,
   "metadata": {},
   "outputs": [],
   "source": [
    "# Actualizar un item\n",
    "db.update_item(item_id=1, description=\"Martillo de acero inoxidable\")\n",
    "\n",
    "# Eliminar un item\n",
    "db.delete_item(item_id=2)"
   ]
  },
  {
   "cell_type": "code",
   "execution_count": null,
   "metadata": {},
   "outputs": [],
   "source": [
    "db.delete_all_items()"
   ]
  },
  {
   "cell_type": "code",
   "execution_count": 20,
   "metadata": {},
   "outputs": [],
   "source": [
    "db.disconnect()"
   ]
  },
  {
   "cell_type": "code",
   "execution_count": null,
   "metadata": {},
   "outputs": [],
   "source": [
    "pprint.pprint(embedding[0])"
   ]
  },
  {
   "cell_type": "code",
   "execution_count": null,
   "metadata": {},
   "outputs": [],
   "source": [
    "name = '¿Cómo te llamas?'\n",
    "descripcion = '¿Cómo te llamas?'\n",
    "embedding = get_embedding(descripcion)\n",
    "db.insert_item(name, descripcion, embedding[0])\n",
    "\n",
    "name = '¿Cuál es tu nombre?'\n",
    "descripcion = '¿Cuál es tu nombre?'\n",
    "embedding = get_embedding(descripcion)\n",
    "db.insert_item(name, descripcion, embedding[0])\n",
    "\n",
    "name = 'Dime tu nombre'\n",
    "descripcion = 'Dime tu nombre'\n",
    "embedding = get_embedding(descripcion)\n",
    "db.insert_item(name, descripcion, embedding[0])"
   ]
  },
  {
   "cell_type": "code",
   "execution_count": 18,
   "metadata": {},
   "outputs": [],
   "source": [
    "# Ejemplo de uso con el patrón with\n",
    "with PostgresVector() as db:\n",
    "    # Crear la extensión y tabla si no existen\n",
    "    db.create_vector_extension()\n",
    "    db.create_items_table(dimension=3)  # Ajustar según la dimensión de tus embeddings\n",
    "    \n",
    "    # Insertar un item\n",
    "    embedding = [0.1, 0.2, 0.3]  # Vector de embedding\n",
    "    db.insert_item(\"Martillo\", \"Herramienta para clavar\", embedding)\n",
    "    \n",
    "    # Buscar items similares\n",
    "    query_vector = [0.15, 0.25, 0.35]\n",
    "    resultados = db.search_similar(query_vector, limit=5)\n",
    "    \n",
    "    # Actualizar un item\n",
    "    db.update_item(item_id=1, description=\"Martillo de acero inoxidable\")\n",
    "    \n",
    "    # Eliminar un item\n",
    "    db.delete_item(item_id=2)\n",
    "    "
   ]
  },
  {
   "cell_type": "markdown",
   "metadata": {},
   "source": [
    "Descartar LiteLLMModel porque falla a la hora de finalizar en el step correcto."
   ]
  },
  {
   "cell_type": "code",
   "execution_count": 34,
   "metadata": {},
   "outputs": [],
   "source": [
    "'''\n",
    "from smolagents import LiteLLMModel, CodeAgent, tool\n",
    "\n",
    "# Configurar el modelo\n",
    "model_id = \"meta-llama/Llama-3.3-70B-Instruct\"\n",
    "model = LiteLLMModel(model_id='huggingface/'+model_id)\n",
    "'''"
   ]
  },
  {
   "cell_type": "markdown",
   "metadata": {},
   "source": [
    "Usar en su lugar HFApiModel que sí termina en el step adecuado."
   ]
  },
  {
   "cell_type": "code",
   "execution_count": 78,
   "metadata": {},
   "outputs": [],
   "source": [
    "from smolagents import HfApiModel, CodeAgent, tool\n",
    "\n",
    "model_id = \"meta-llama/Llama-3.3-70B-Instruct\"\n",
    "model = HfApiModel(model_id=model_id)"
   ]
  }
 ],
 "metadata": {
  "kernelspec": {
   "display_name": ".VENV",
   "language": "python",
   "name": "python3"
  },
  "language_info": {
   "codemirror_mode": {
    "name": "ipython",
    "version": 3
   },
   "file_extension": ".py",
   "mimetype": "text/x-python",
   "name": "python",
   "nbconvert_exporter": "python",
   "pygments_lexer": "ipython3",
   "version": "3.12.8"
  }
 },
 "nbformat": 4,
 "nbformat_minor": 2
}
