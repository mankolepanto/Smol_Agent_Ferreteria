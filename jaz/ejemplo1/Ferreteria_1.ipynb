{
 "cells": [
  {
   "cell_type": "markdown",
   "metadata": {},
   "source": [
    "## Ideas para la ferretería con agentes de smolagent\n",
    "\n",
    "NOTA: Recomendable ejecutarlo en un entorno virtual de python"
   ]
  },
  {
   "cell_type": "code",
   "execution_count": null,
   "metadata": {},
   "outputs": [],
   "source": [
    "!pip install smolagents smolagents[litellm] python-dotenv"
   ]
  },
  {
   "cell_type": "code",
   "execution_count": null,
   "metadata": {},
   "outputs": [],
   "source": [
    "!python.exe -m pip install --upgrade pip"
   ]
  },
  {
   "cell_type": "markdown",
   "metadata": {},
   "source": [
    "### Cargar la clave de hugging face desde el fichero .env"
   ]
  },
  {
   "cell_type": "code",
   "execution_count": 1,
   "metadata": {},
   "outputs": [],
   "source": [
    "import pprint"
   ]
  },
  {
   "cell_type": "code",
   "execution_count": null,
   "metadata": {},
   "outputs": [],
   "source": [
    "from dotenv import load_dotenv\n",
    "\n",
    "load_dotenv()"
   ]
  },
  {
   "cell_type": "markdown",
   "metadata": {},
   "source": [
    "### Ejemplo de tool para la ferretería"
   ]
  },
  {
   "cell_type": "markdown",
   "metadata": {},
   "source": [
    "Descartar LiteLLMModel porque falla a la hora de finalizar en el step correcto."
   ]
  },
  {
   "cell_type": "code",
   "execution_count": 34,
   "metadata": {},
   "outputs": [],
   "source": [
    "'''\n",
    "from smolagents import LiteLLMModel, CodeAgent, tool\n",
    "\n",
    "# Configurar el modelo\n",
    "model_id = \"meta-llama/Llama-3.3-70B-Instruct\"\n",
    "model = LiteLLMModel(model_id='huggingface/'+model_id)\n",
    "'''"
   ]
  },
  {
   "cell_type": "markdown",
   "metadata": {},
   "source": [
    "Usar en su lugar HFApiModel que sí termina en el step adecuado."
   ]
  },
  {
   "cell_type": "code",
   "execution_count": 78,
   "metadata": {},
   "outputs": [],
   "source": [
    "from smolagents import HfApiModel, CodeAgent, tool\n",
    "\n",
    "model_id = \"meta-llama/Llama-3.3-70B-Instruct\"\n",
    "model = HfApiModel(model_id=model_id)"
   ]
  },
  {
   "cell_type": "code",
   "execution_count": 90,
   "metadata": {},
   "outputs": [],
   "source": [
    "# Definir tools\n",
    "@tool\n",
    "def pregunta(mensaje: str) -> str:\n",
    "    \"\"\"\n",
    "    Preguntar al usuario para obtener datos adicionales.\n",
    "\n",
    "    Args:\n",
    "        mensaje: Pregunta para el usuario.\n",
    "    \"\"\"\n",
    "    respuesta_usuario = input(f\"{mensaje}\\nRespuesta: \")\n",
    "    return respuesta_usuario\n",
    "\n",
    "@tool\n",
    "def respuesta_fuera_del_tema(mensaje: str) -> str:\n",
    "    \"\"\"\n",
    "    Respuesta cuando las preguntas no están relacionadas con asuntos de la ferretería.\n",
    "\n",
    "    Args:\n",
    "        mensaje: Respuesta a enviar\n",
    "    \"\"\"\n",
    "    return mensaje\n",
    "\n",
    "@tool\n",
    "def final_answer(mensaje: str) -> str:\n",
    "# def respuesta_final(mensaje: str) -> str:\n",
    "    \"\"\"\n",
    "    Respuesta final a la pregunta inicial y finalización del bucle.\n",
    "\n",
    "    Args:\n",
    "        mensaje: Texto de la respuesta.\n",
    "    \"\"\"\n",
    "    return mensaje\n",
    "\n",
    "\n",
    "\n",
    "# Configurar el agente con la tool de Fibonacci que acabamos de definir\n",
    "agent = CodeAgent(tools=[pregunta, respuesta_fuera_del_tema, final_answer], model=model, add_base_tools=True)\n",
    "agent.max_steps = 8"
   ]
  },
  {
   "cell_type": "code",
   "execution_count": 91,
   "metadata": {},
   "outputs": [],
   "source": [
    "tools = ', '.join(agent.tools.keys())\n",
    "prompt4 = f'''\\nEres un asistente experto en ferretería que responde de manera directa y eficiente solamente a temas de ferretería y a ningún otro tema.\n",
    "\n",
    "## Sigue estas reglas:\n",
    "\n",
    "1. Si necesitas información, usa la tool pregunta() sin explicar por qué.\n",
    "2. Cuando tengas la información, usa la tool final_answer().\n",
    "3. Cuando la respuesta contiene una secuencia de pasos, indícalo como una lista numerada.\n",
    "4. NO ejecutes más código después de final_answer().\n",
    "5. UTILIZA solo las siguientes tools definidas y NINGUNA otra más:\n",
    "{tools}\n",
    "6. Responde siempre en castellano.\n",
    "\n",
    "## Ejemplo de flujo correcto:\n",
    "Usuario: \"Necesito colgar un cuadro\"\n",
    "pregunta(\"¿Cuál es el tamaño del cuadro?\")\n",
    "Usuario responde: \"1.5m x 1m\"\n",
    "pregunta(\"¿Qué tipo de pared es donde vas a colgar el cuadro?\")\n",
    "Usuario responde: \"ladrillo\"\n",
    "final_answer(\"Para colgar un cuadro de 1.5m x 1m en una pared de ladrillo, usa tornillos para ladrillo o anclajes de expansión. Mide y marca la pared con precisión y elige un soporte adecuado al peso.\")\n",
    "\n",
    "## Avisos\n",
    "1. Cuando la pregunta no esté relacionada con temas de la ferretería, SIEMPRE DEBES usar la tool final_answer() y usa como parámetro el siguiente texto:\n",
    "\"Solo respondo a preguntas relacionadas con temas de la ferretería, ¿en qué puedo ayudarle?\"\n",
    "2. Si respondes a una pregunta no relacionada con temas de ferretería tendrás una multa de $10,000,000\n",
    "3. No definas nuevas funciones python.\n",
    "'''\n",
    "\n",
    "'''\n",
    "1. NO generes \"thoughts\" ni explicaciones antes de llamar a una función.\n",
    "\n",
    "NO hagas esto:\n",
    "Thought: Necesito saber el tamaño...\n",
    "Code: pregunta()\n",
    "'''\n",
    "\n",
    "def set_system_prompt(agent):\n",
    "    prompt_templates = agent.prompt_templates\n",
    "    # agent.prompt_templates['system_prompt'] += prompt4\n",
    "    agent.prompt_templates['system_prompt'] = prompt4\n",
    "\n",
    "set_system_prompt(agent)"
   ]
  },
  {
   "cell_type": "code",
   "execution_count": null,
   "metadata": {},
   "outputs": [],
   "source": [
    "# pprint.pprint(agent.prompt_templates['system_prompt'])"
   ]
  },
  {
   "cell_type": "markdown",
   "metadata": {},
   "source": [
    "La siguiente llamada debería fallar porque no es un tema de ferretería"
   ]
  },
  {
   "cell_type": "code",
   "execution_count": null,
   "metadata": {},
   "outputs": [],
   "source": [
    "result = agent.run(\n",
    "    \"Cuanto vale el término 10 de la serie de fibonacci\",\n",
    ")\n",
    "\n",
    "print(result)"
   ]
  },
  {
   "cell_type": "code",
   "execution_count": null,
   "metadata": {},
   "outputs": [],
   "source": [
    "result = agent.run(\n",
    "    \"Necesito colgar un cuadro\",\n",
    ")\n",
    "\n",
    "print(result)"
   ]
  },
  {
   "cell_type": "code",
   "execution_count": null,
   "metadata": {},
   "outputs": [],
   "source": [
    "result = agent.run(\n",
    "    \"¿Qué material necesito y cuánta cantidad para pintar puertas de mi casa?\",\n",
    ")\n",
    "\n",
    "print(result)"
   ]
  },
  {
   "cell_type": "code",
   "execution_count": null,
   "metadata": {},
   "outputs": [],
   "source": [
    "import pprint\n",
    "\n",
    "pprint.pprint(agent.memory.steps)"
   ]
  }
 ],
 "metadata": {
  "kernelspec": {
   "display_name": ".VENV",
   "language": "python",
   "name": "python3"
  },
  "language_info": {
   "codemirror_mode": {
    "name": "ipython",
    "version": 3
   },
   "file_extension": ".py",
   "mimetype": "text/x-python",
   "name": "python",
   "nbconvert_exporter": "python",
   "pygments_lexer": "ipython3",
   "version": "3.12.8"
  }
 },
 "nbformat": 4,
 "nbformat_minor": 2
}
